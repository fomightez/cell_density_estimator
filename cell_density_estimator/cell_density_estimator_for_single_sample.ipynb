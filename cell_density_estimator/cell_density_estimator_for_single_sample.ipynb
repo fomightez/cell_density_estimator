{
 "metadata": {
  "name": "",
  "signature": "sha256:df35a1c1dc35cab204aa795f18d58584ef78a15208a8bd26c93b4d490e1c5c58"
 },
 "nbformat": 3,
 "nbformat_minor": 0,
 "worksheets": [
  {
   "cells": [
    {
     "cell_type": "heading",
     "level": 1,
     "metadata": {},
     "source": [
      "Calculating Yeast Cell Density"
     ]
    },
    {
     "cell_type": "markdown",
     "metadata": {},
     "source": [
      " "
     ]
    },
    {
     "cell_type": "markdown",
     "metadata": {},
     "source": [
      "This tool facilitates determining yeast cell density of a culture if provided the absorbance at 660 nm, a.k.a. optical density at 660 nm, and the dilution factor of the sample.<br>\n",
      "This tool is based on the approach described in the Methods in Yeast Gentics Appendix entitled \"Measuring Yeast Cell Density by Spectrophotometry\".<br>\n",
      "A webserver version of this tool can be found [here](????) for those looking for a simpler interface. This notebook acts as an open-source version of the code underlying the calculations done by the webserver version."
     ]
    },
    {
     "cell_type": "markdown",
     "metadata": {},
     "source": [
      " "
     ]
    },
    {
     "cell_type": "heading",
     "level": 3,
     "metadata": {},
     "source": [
      "Investigator-determined options:"
     ]
    },
    {
     "cell_type": "markdown",
     "metadata": {},
     "source": [
      "Below enter the absorbance at 660 nm (O.D. 660) of the culture or diluted culture sample. "
     ]
    },
    {
     "cell_type": "code",
     "collapsed": true,
     "input": [
      "absorbance = 1.323"
     ],
     "language": "python",
     "metadata": {},
     "outputs": [],
     "prompt_number": 118
    },
    {
     "cell_type": "markdown",
     "metadata": {},
     "source": [
      "Below enter the dilution factor of the sample. \n",
      "\n",
      "Enter below the dilution_factor as\n",
      "\n",
      "    dilution_factor = \"none\"\n",
      "    \n",
      ", if the sample is undiluted culture.\n",
      "\n",
      "(You may have needed to dilute the sample to get the reading to be around 1.0 Absorbance unit or less, which is typically the best range for most spectrohphotometers.) \n",
      "\n",
      "Dilution factor, here, is the number do you need to multiply the original culture volume to get the final volume, see [here]( http://www.hemocytometer.org/dilution-factor/). In other words, dilution_factor equals the fold dilution.\n",
      "\n",
      "If it is a ten-fold dilution simply enter \n",
      "    dilution_factor = 10 \n",
      "    \n",
      "Note that quotes are not involved if the dilution factor is numerical and not `none`."
     ]
    },
    {
     "cell_type": "code",
     "collapsed": true,
     "input": [
      "dilution_factor = \"none\""
     ],
     "language": "python",
     "metadata": {},
     "outputs": [],
     "prompt_number": 119
    },
    {
     "cell_type": "heading",
     "level": 4,
     "metadata": {},
     "source": [
      "That is all that is needed. You can now run this notebook and see the result at the bottom. You can also edit it further to view the individual steps prior to the results."
     ]
    },
    {
     "cell_type": "heading",
     "level": 1,
     "metadata": {},
     "source": [
      " "
     ]
    },
    {
     "cell_type": "heading",
     "level": 1,
     "metadata": {},
     "source": [
      " "
     ]
    },
    {
     "cell_type": "heading",
     "level": 3,
     "metadata": {},
     "source": [
      "Calculating yeast cell density of the sample from the standard curve:"
     ]
    },
    {
     "cell_type": "heading",
     "level": 4,
     "metadata": {},
     "source": [
      "IF YOU JUST WANT THE RESULT BASED ON WHAT YOU ENTERED ABOVE, SKIP TO BOTTOM OF THIS NOTEBOOK."
     ]
    },
    {
     "cell_type": "heading",
     "level": 4,
     "metadata": {},
     "source": [
      "(This is just the behind the scenes stuff.)"
     ]
    },
    {
     "cell_type": "code",
     "collapsed": false,
     "input": [
      "## PREPARATION AND HELPER FUNCTIONS FOR THE CODE ##\n",
      "import numpy\n",
      "\n",
      "# *****Standard Curve *********\n",
      "# *****************************\n",
      "\n",
      "# List of tuples of OD660 vs haploid number of cells per ml. First values is the\n",
      "# OD660 readings and 2nd are the number of haploid cells in the mL sample, as\n",
      "# provided for strain A364A. Cell densities for diploids are half those for\n",
      "# halploids as diploids and some mutants which are abnormally large will\n",
      "# scatter more light than the wildtype haploids at the same cell density.\n",
      "yeast_cell_density_by_OD660_tuples = [\n",
      "\t(0.000, 0.000e7),\n",
      "\t(0.010, 0.015e7),\n",
      "\t(0.020, 0.025e7),\n",
      "\t(0.030, 0.040e7),\n",
      "\t(0.040, 0.053e7),\n",
      "\t(0.050, 0.065e7),\n",
      "\t(0.060, 0.078e7),\n",
      "\t(0.070, 0.090e7),\n",
      "\t(0.080, 0.103e7),\n",
      "\t(0.090, 0.115e7),\n",
      "\t(0.100, 0.128e7),\n",
      "\t(0.110, 0.140e7),\n",
      "\t(0.120, 0.153e7),\n",
      "\t(0.130, 0.165e7),\n",
      "\t(0.140, 0.178e7),\n",
      "\t(0.150, 0.190e7),\n",
      "\t(0.160, 0.204e7),\n",
      "\t(0.170, 0.216e7),\n",
      "\t(0.180, 0.229e7),\n",
      "\t(0.190, 0.241e7),\n",
      "\t(0.200, 0.255e7),\n",
      "\t(0.210, 0.268e7),\n",
      "\t(0.220, 0.280e7),\n",
      "\t(0.230, 0.293e7),\n",
      "\t(0.240, 0.305e7),\n",
      "\t(0.250, 0.319e7),\n",
      "\t(0.260, 0.330e7),\n",
      "\t(0.270, 0.342e7),\n",
      "\t(0.280, 0.356e7),\n",
      "\t(0.290, 0.370e7),\n",
      "\t(0.300, 0.385e7),\n",
      "\t(0.310, 0.399e7),\n",
      "\t(0.320, 0.412e7),\n",
      "\t(0.330, 0.426e7),\n",
      "\t(0.340, 0.440e7),\n",
      "\t(0.350, 0.455e7),\n",
      "\t(0.360, 0.470e7),\n",
      "\t(0.370, 0.484e7),\n",
      "\t(0.380, 0.499e7),\n",
      "\t(0.390, 0.514e7),\n",
      "\t(0.400, 0.530e7),\n",
      "\t(0.410, 0.547e7),\n",
      "\t(0.420, 0.564e7),\n",
      "\t(0.430, 0.580e7),\n",
      "\t(0.440, 0.600e7),\n",
      "\t(0.450, 0.617e7),\n",
      "\t(0.460, 0.633e7),\n",
      "\t(0.470, 0.650e7),\n",
      "\t(0.480, 0.666e7),\n",
      "\t(0.490, 0.683e7),\n",
      "\t(0.500, 0.700e7),\n",
      "\t(0.510, 0.717e7),\n",
      "\t(0.520, 0.733e7),\n",
      "\t(0.530, 0.750e7),\n",
      "\t(0.540, 0.766e7),\n",
      "\t(0.550, 0.783e7),\n",
      "\t(0.560, 0.800e7),\n",
      "\t(0.570, 0.817e7),\n",
      "\t(0.580, 0.833e7),\n",
      "\t(0.590, 0.850e7),\n",
      "\t(0.600, 0.866e7),\n",
      "\t(0.610, 0.883e7),\n",
      "\t(0.620, 0.900e7),\n",
      "\t(0.630, 0.917e7),\n",
      "\t(0.640, 0.933e7),\n",
      "\t(0.650, 0.950e7),\n",
      "\t(0.660, 0.966e7),\n",
      "\t(0.670, 0.983e7),\n",
      "\t(0.680, 1.000e7),\n",
      "\t(0.690, 1.023e7),\n",
      "\t(0.700, 1.046e7),\n",
      "\t(0.710, 1.070e7),\n",
      "\t(0.720, 1.093e7),\n",
      "\t(0.730, 1.116e7),\n",
      "\t(0.740, 1.040e7),\n",
      "\t(0.750, 1.160e7),\n",
      "\t(0.760, 1.180e7),\n",
      "\t(0.770, 1.200e7),\n",
      "\t(0.780, 1.220e7),\n",
      "\t(0.790, 1.240e7),\n",
      "\t(0.800, 1.260e7),\n",
      "\t(0.810, 1.283e7),\n",
      "\t(0.820, 1.306e7),\n",
      "\t(0.830, 1.330e7),\n",
      "\t(0.840, 1.353e7),\n",
      "\t(0.850, 1.376e7),\n",
      "\t(0.860, 1.400e7),\n",
      "\t(0.870, 1.430e7),\n",
      "\t(0.880, 1.460e7),\n",
      "\t(0.890, 1.490e7),\n",
      "\t(0.900, 1.520e7),\n",
      "\t(0.910, 1.550e7),\n",
      "\t(0.920, 1.580e7),\n",
      "\t(0.930, 1.610e7),\n",
      "\t(0.940, 1.640e7),\n",
      "\t(0.950, 1.670e7),\n",
      "\t(0.960, 1.703e7),\n",
      "\t(0.970, 1.736e7),\n",
      "\t(0.980, 1.770e7),\n",
      "\t(0.990, 1.810e7),\n",
      "\t(1.000, 1.850e7),\n",
      "\t(1.010, 1.890e7),\n",
      "\t(1.020, 1.926e7),\n",
      "\t(1.030, 1.963e7),\n",
      "\t(1.040, 2.000e7),\n",
      "\t(1.050, 2.040e7),\n",
      "\t(1.060, 2.080e7),\n",
      "\t(1.070, 2.120e7),\n",
      "\t(1.080, 2.163e7),\n",
      "\t(1.090, 2.206e7),\n",
      "\t(1.100, 2.250e7),\n",
      "\t(1.110, 2.296e7),\n",
      "\t(1.120, 2.343e7),\n",
      "\t(1.130, 2.390e7),\n",
      "\t(1.140, 2.433e7),\n",
      "\t(1.150, 2.476e7),\n",
      "\t(1.160, 2.520e7),\n",
      "\t(1.170, 2.566e7),\n",
      "\t(1.180, 2.613e7),\n",
      "\t(1.190, 2.660e7),\n",
      "\t(1.200, 2.706e7),\n",
      "\t(1.210, 2.753e7),\n",
      "\t(1.220, 2.800e7),\n",
      "\t(1.230, 2.850e7),\n",
      "\t(1.240, 2.900e7),\n",
      "\t(1.250, 2.950e7),\n",
      "\t(1.260, 3.002e7),\n",
      "\t(1.270, 3.055e7),\n",
      "\t(1.280, 3.107e7),\n",
      "\t(1.290, 3.160e7),\n",
      "\t(1.300, 3.220e7),\n",
      "\t(1.310, 3.280e7),\n",
      "\t(1.320, 3.340e7),\n",
      "\t(1.330, 3.400e7),\n",
      "\t(1.340, 3.460e7),\n",
      "\t(1.350, 3.520e7),\n",
      "\t(1.360, 3.580e7),\n",
      "\t(1.370, 3.640e7),\n",
      "\t(1.380, 3.700e7),\n",
      "\t(1.390, 3.760e7),\n",
      "\t(1.400, 3.820e7),\n",
      "\t(1.410, 3.880e7),\n",
      "\t(1.420, 3.940e7),\n",
      "\t(1.430, 4.000e7),\n",
      "\t(1.440, 4.065e7),\n",
      "\t(1.450, 4.130e7),\n",
      "\t(1.460, 4.200e7),\n",
      "\t(1.470, 4.270e7),\n",
      "\t(1.480, 4.340e7),\n",
      "\t(1.490, 4.410e7),\n",
      "\t(1.500, 4.480e7),\n",
      "\t(1.510, 4.550e7),\n",
      "\t(1.520, 4.625e7),\n",
      "\t(1.530, 4.700e7),\n",
      "\t(1.540, 4.775e7),\n",
      "\t(1.550, 4.850e7),\n",
      "\t(1.560, 4.925e7),\n",
      "\t(1.570, 5.000e7),\n",
      "\t(1.580, 5.075e7),\n",
      "\t(1.590, 5.150e7),\n",
      "\t(1.600, 5.225e7),\n",
      "\t(1.610, 5.300e7),\n",
      "\t(1.620, 5.380e7),\n",
      "\t(1.630, 5.460e7),\n",
      "\t(1.640, 5.540e7),\n",
      "\t(1.650, 5.630e7),\n",
      "\t(1.660, 5.700e7),\n",
      "\t(1.670, 5.800e7),\n",
      "\t(1.680, 5.890e7),\n",
      "\t(1.690, 5.980e7),\n",
      "\t(1.700, 6.070e7)\n",
      "]\n",
      "\n",
      "\n",
      "import numpy\n",
      "\n",
      "def unzip(iterable):\n",
      "\t'''\n",
      "\tfunction unzips 2-item tuples to lists of each separate item\n",
      "\tbased on\n",
      "\thttp://stackoverflow.com/questions/19339/a-transpose-unzip-function-in-python-inverse-of-zip\n",
      "\tand\n",
      "\thttp://stackoverflow.com/questions/13635032/what-is-the-inverse-function-of-zip-in-python\n",
      "\t'''\n",
      "\treturn zip(*iterable)\n",
      "\n",
      "def abs_in_range(abs):\n",
      "\t'''\n",
      "\tThe function checks to make sure value of absorbance provided is in range\n",
      "\tof OD660 values covered by standard curve. Numpy linear interpolation I'll\n",
      "\tuse doesn't cover handling if value to be checked on curve is not in between\n",
      "\tat least two points on curve. Defaults to just giving highest or lowest\n",
      "\tcorresponding value as shown at http://docs.scipy.org/doc/numpy/reference/generated/numpy.interp.html\n",
      "\twhen value of 0 given.\n",
      "\n",
      "\tReturns true if in range or False when out of range.\n",
      "\n",
      "\tBased on\n",
      "\thttp://stackoverflow.com/questions/618093/how-to-find-whether-a-number-belongs-to-a-particular-range-in-python.\n",
      "\t'''\n",
      "\tod660_values_list = unzip(\n",
      "\t\tyeast_cell_density_by_OD660_tuples)\n",
      "\treturn True if min(od660_values_list) <= abs <= max(\n",
      "\t\tod660_values_list) else False\n",
      "\n",
      "\n",
      "\n",
      "\n",
      "\n",
      "def obtain_value_from_std_curve(abs660):\n",
      "\t'''\n",
      "\tFunction takes absorbance at 660 nm and determines cells per ml using\n",
      "\tstandard curve of OD660 vs cell density.\n",
      "\n",
      "\tReturns cells per ml for the sample.\n",
      "\n",
      "\tApproach based on http://stackoverflow.com/questions/25057943/getting-y-value-of-a-curve-given-an-x-value\n",
      "\tand\n",
      "\thttp://docs.scipy.org/doc/numpy/reference/generated/numpy.interp.html\n",
      "\t'''\n",
      "\t# cast the standard curve tuples list for use as x and y values of\n",
      "\t# curve in numpy interpolation\n",
      "\tod660_values_list, cells_per_ml_values_list = unzip(\n",
      "\t\tyeast_cell_density_by_OD660_tuples)\n",
      "\n",
      "\t# use one-dimensional linear interpolation by Numpy\n",
      "\t# http://docs.scipy.org/doc/numpy/reference/generated/numpy.interp.html\n",
      "\treturn numpy.interp(abs660, od660_values_list, cells_per_ml_values_list)\n",
      "\n",
      "\n",
      "def represents_float(v):\n",
      "\t'''\n",
      "\tfunction to see if an varibale can be typecast a float. Returns True if it\n",
      "\tcan.\n",
      "\n",
      "\tbased on\n",
      "\thttp://stackoverflow.com/questions/1265665/python-check-if-a-string-represents-an-int-without-using-try-except\n",
      "\t'''\n",
      "\ttry:\n",
      "\t\tfloat(v)\n",
      "\t\treturn True\n",
      "\texcept ValueError:\n",
      "\t\treturn False\n",
      "\n",
      "\n",
      "def cells_per_ml_calc (abs, dilution_factor):\n",
      "\t'''\n",
      "\t\tThe function takes an absorbance at 660 nm and dilution factor and then\n",
      "\treturns an approximation of the number of yeast cells per ml sample and a\n",
      "\tboolean indicating if errors involving the provided dilution_factor are\n",
      "\tdetected. The approach described in the Methods in Yeast Gentics Appendix\n",
      "\tentitled \"Measuring Yeast Cell Density by Spectrophotometry\".\n",
      "\n",
      "\n",
      "\tIt is an approximation because it is based on a standard curve genrated for\n",
      "\tyeast strain A364A and may not be valid for all yeast. If you need accurate\n",
      "\tnumbers, you should count your cells, or make a standard curve for your own\n",
      "\tfuture use, with a Coulter counter or a hemocytometer.\n",
      "\n",
      "\tDilution factor is in the terms of what number do you need to multiply the\n",
      "\toriginal culture volume to get the final volume,\n",
      "\tsee http://www.hemocytometer.org/dilution-factor/ . In other words,\n",
      "\tdilution_factor equals the fold dilution.\n",
      "\tSome examples:\n",
      "\t * For a 10-fold dilution, on other words 1 parts original culure plus 9 parts\n",
      "\t   diluent, the dilution_factor argument is 10.\n",
      "\t * For a 5-fold dilution, on other words 1 parts original culure plus 4 parts\n",
      "\t   diluent, the dilution_factor is 5.\n",
      "\t * For a 2-fold or `1-to-1` dilution, on other words 1 parts original culure\n",
      "\t   plus 1 parts diluent, the dilution_factor is 2.\n",
      "\n",
      "\tTechnically, no dilution means this factor will be 1 for that case.\n",
      "\tHowever, as calculating that is a bit much to ask of anyone not\n",
      "\tactually diluting a sample, to make things easy the dilution factor\n",
      "\targument can be a string 'None', without quotes, and the calculations will\n",
      "\tbe handled appropriately. Likewise, dilution_factor can also simply be\n",
      "\tdesignated the number `0` treat the sample as undiluted.\n",
      "\n",
      "\tThe function also returns a Boolean as to whether the dilution_factor was\n",
      "\tneeded in a calculation, but was not provided in form that can be converted\n",
      "\tto a float for multiplication.\n",
      "\t'''\n",
      "\t# Use provided absorbance to determine cells per ml using standard curve of\n",
      "\t# OD660 vs cell density.\n",
      "\tcalculated_cells_per_ml = obtain_value_from_std_curve(abs)\n",
      "\n",
      "\n",
      "\t#**** ACCOUNTING FOR DILUTION FACTOR SECTION*****\n",
      "\t# Typecast dilution_factor to a string to more easily handle comparisons\n",
      "\t# next. This conversion allows dilution_factor string case to be lowered for\n",
      "\t# comparison; otherwise, when the `.lower()` method is applied in a series\n",
      "\t# of comparisons, it throws an error if it is not a string at the time.\n",
      "\n",
      "\tdilution_factor_needed_but_not_float_error = False # State will be examined\n",
      "\t# if dilution_factor calculation needs to be done later. Helps in feedback\n",
      "\t# for when typecast dilution_factor back to float for calculation step.\n",
      "\n",
      "\t# NOW APPPLY dilution_factor TO CALCULATION, handling the exception cases of\n",
      "\t# dilution_factor of `1`, `none`, or `0` as indicating no dilution of the\n",
      "\t# sample.\n",
      "\tif (dilution_factor != \"1\") or (dilution_factor.lower() != \"none\") or (\n",
      "\t\tdilution_factor.lower() != \"zero\") or (dilution_factor != \"1\"):\n",
      "\t\tif represents_float(dilution_factor):\n",
      "\t\t\tcalculated_cells_per_ml = calculated_cells_per_ml * float(dilution_factor)\n",
      "\t\telse:\n",
      "\t\t\tdilution_factor_needed_but_not_float_error  = True\n",
      "\t#**** END ACCOUNTING FOR DILUTION FACTOR SECTION *****\n",
      "\n",
      "\treturn calculated_cells_per_ml, dilution_factor_needed_but_not_float_error\n",
      "\n",
      "def transformation_inoculation_volume_calc (cells_per_ml):\n",
      "\t'''\n",
      "\tThe function takes the cells per ml of a yeast culture and calculates what\n",
      "\tvolume to use to inoculate a total of 50 mL of media for carrying out a\n",
      "\ttypical yeast cell transformation per the approach described in the Methods\n",
      "\tin Yeast Gentics Appendix entitled \"High-efficiency Transformation of Yeast\".\n",
      "\t'''\n",
      "\t#### *** Use provided cells per ml to determine volume. *** ###\n",
      "\t# Final need is 50 ml at 5.0E+06 cells per mL or 2.50E+08 total cells in\n",
      "\t# 50 mL.\n",
      "\tvolume = 2.50E+08/cells_per_ml\n",
      "\treturn volume"
     ],
     "language": "python",
     "metadata": {},
     "outputs": [],
     "prompt_number": 120
    },
    {
     "cell_type": "code",
     "collapsed": false,
     "input": [
      "# Make sure provided absorbance in range covered by standard curve\n",
      "out_of_range_error = abs_in_range(absorbance)\n",
      "# TO DO: ADD HANDLING OF ERROR"
     ],
     "language": "python",
     "metadata": {},
     "outputs": [],
     "prompt_number": 121
    },
    {
     "cell_type": "code",
     "collapsed": false,
     "input": [
      "# Performing the actual calculations\n",
      "cells_per_ml, factor_error_detected = cells_per_ml_calc (absorbance, dilution_factor)\n",
      "# TO DO: ADD HANDLING OF ERROR  \n",
      "\n",
      "volume_to_inoculate_for_transformation = transformation_inoculation_volume_calc (cells_per_ml)"
     ],
     "language": "python",
     "metadata": {},
     "outputs": [],
     "prompt_number": 122
    },
    {
     "cell_type": "heading",
     "level": 1,
     "metadata": {},
     "source": [
      " "
     ]
    },
    {
     "cell_type": "heading",
     "level": 3,
     "metadata": {},
     "source": [
      "Formatting of the output:"
     ]
    },
    {
     "cell_type": "heading",
     "level": 4,
     "metadata": {},
     "source": [
      "IF YOU JUST WANT THE RESULT BASED ON WHAT YOU ENTERED ABOVE, SKIP TO BOTTOM OF THIS NOTEBOOK."
     ]
    },
    {
     "cell_type": "heading",
     "level": 4,
     "metadata": {},
     "source": [
      "(The first part is just more behind the scenes stuff.)"
     ]
    },
    {
     "cell_type": "code",
     "collapsed": false,
     "input": [
      "cells_per_ml"
     ],
     "language": "python",
     "metadata": {},
     "outputs": [
      {
       "metadata": {},
       "output_type": "pyout",
       "prompt_number": 123,
       "text": [
        "33579999.99999999"
       ]
      }
     ],
     "prompt_number": 123
    },
    {
     "cell_type": "markdown",
     "metadata": {},
     "source": [
      "Better formatting based on [here](http://stackoverflow.com/questions/27883510/convert-to-scientific-notation-python-2-7) and [here](http://stackoverflow.com/questions/6913532/display-a-decimal-in-scientific-notation) is below"
     ]
    },
    {
     "cell_type": "code",
     "collapsed": false,
     "input": [
      "cells_per_ml_formatted = \"{:.2E}\".format(cells_per_ml)"
     ],
     "language": "python",
     "metadata": {},
     "outputs": [],
     "prompt_number": 124
    },
    {
     "cell_type": "code",
     "collapsed": false,
     "input": [
      "cells_per_ml_formatted"
     ],
     "language": "python",
     "metadata": {},
     "outputs": [
      {
       "metadata": {},
       "output_type": "pyout",
       "prompt_number": 125,
       "text": [
        "'3.36E+07'"
       ]
      }
     ],
     "prompt_number": 125
    },
    {
     "cell_type": "code",
     "collapsed": false,
     "input": [
      "print cells_per_ml_formatted"
     ],
     "language": "python",
     "metadata": {},
     "outputs": [
      {
       "output_type": "stream",
       "stream": "stdout",
       "text": [
        "3.36E+07\n"
       ]
      }
     ],
     "prompt_number": 126
    },
    {
     "cell_type": "markdown",
     "metadata": {},
     "source": [
      "(I don't know why print command and just calling variable give different results, i.e., one has the single-quotes and the one involving `print` doesn't. I guess it is because one is a string and the other is printed string?)"
     ]
    },
    {
     "cell_type": "code",
     "collapsed": false,
     "input": [
      "print \"{:.2E}\".format(cells_per_ml)"
     ],
     "language": "python",
     "metadata": {},
     "outputs": [
      {
       "output_type": "stream",
       "stream": "stdout",
       "text": [
        "3.36E+07\n"
       ]
      }
     ],
     "prompt_number": 127
    },
    {
     "cell_type": "code",
     "collapsed": false,
     "input": [
      "print \"The sample density is \"+ \"{:.2E}\".format(cells_per_ml) +\" yeast cells per ml.\""
     ],
     "language": "python",
     "metadata": {},
     "outputs": [
      {
       "output_type": "stream",
       "stream": "stdout",
       "text": [
        "The sample density is 3.36E+07 yeast cells per ml.\n"
       ]
      }
     ],
     "prompt_number": 128
    },
    {
     "cell_type": "code",
     "collapsed": false,
     "input": [
      "# Formatting output of transformation advice\n",
      "# Formatting correct decimal place for Python 2.7 based on Daren Thomas's answer\n",
      "# http://stackoverflow.com/questions/6149006/display-a-float-with-two-decimal-places-in-python\n",
      "print \"If using this sample for inoculating a 50 mL culture for growing to density 2.0E+07 cells per mL for use in a transformation, use \" + \"{:.1f}\".format(\n",
      "\tvolume_to_inoculate_for_transformation) + \" mL of the culture with \" + \"{:.1f}\".format(\n",
      "\t50.0 - volume_to_inoculate_for_transformation ) + \" mL YPD media.\""
     ],
     "language": "python",
     "metadata": {},
     "outputs": [
      {
       "output_type": "stream",
       "stream": "stdout",
       "text": [
        "If using this sample for inoculating a 50 mL culture for growing to density 2.0E+07 cells per mL for use in a transformation, use 7.4 mL of the culture with 42.6 mL YPD media.\n"
       ]
      }
     ],
     "prompt_number": 129
    }
   ],
   "metadata": {}
  }
 ]
}
