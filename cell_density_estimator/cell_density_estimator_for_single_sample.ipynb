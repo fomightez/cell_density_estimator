{
 "cells": [
  {
   "cell_type": "markdown",
   "metadata": {},
   "source": [
    "# Calculating Yeast Cell Density"
   ]
  },
  {
   "cell_type": "markdown",
   "metadata": {},
   "source": [
    " "
   ]
  },
  {
   "cell_type": "markdown",
   "metadata": {},
   "source": [
    "This tool facilitates determining yeast cell density of a culture if provided the absorbance at 660 nm, a.k.a. optical density at 660 nm, and the dilution factor of the sample.<br>\n",
    "This tool is based on the approach described in the Methods in Yeast Gentics Appendix entitled \"Measuring Yeast Cell Density by Spectrophotometry\".<br>\n",
    "A webserver version of this tool can be found [here](????) for those looking for a simpler interface. This notebook acts as an open-source version of the code underlying the calculations done by the webserver version."
   ]
  },
  {
   "cell_type": "markdown",
   "metadata": {},
   "source": [
    " "
   ]
  },
  {
   "cell_type": "markdown",
   "metadata": {},
   "source": [
    "### Investigator-determined options:"
   ]
  },
  {
   "cell_type": "markdown",
   "metadata": {},
   "source": [
    "Below enter the absorbance at 660 nm (O.D. 660) of the culture or diluted culture sample. "
   ]
  },
  {
   "cell_type": "code",
   "execution_count": 17,
   "metadata": {
    "collapsed": true
   },
   "outputs": [],
   "source": [
    "absorbance = 1.323"
   ]
  },
  {
   "cell_type": "markdown",
   "metadata": {},
   "source": [
    "Below enter the dilution factor of the sample. \n",
    "\n",
    "Enter below the dilution_factor as\n",
    "\n",
    "    dilution_factor = \"none\"\n",
    "    \n",
    ", if the sample is undiluted culture.\n",
    "\n",
    "(You may have needed to dilute the sample to get the reading to be around 1.0 Absorbance unit or less, which is typically the best range for most spectrohphotometers.) \n",
    "\n",
    "Dilution factor, here, is the number do you need to multiply the original culture volume to get the final volume, see [here]( http://www.hemocytometer.org/dilution-factor/). In other words, dilution_factor equals the fold dilution.\n",
    "\n",
    "If it is a ten-fold dilution simply enter \n",
    "    dilution_factor = 10 \n",
    "    \n",
    "Note that quotes are not involved if the dilution factor is numerical and not `none`."
   ]
  },
  {
   "cell_type": "code",
   "execution_count": 18,
   "metadata": {
    "collapsed": true
   },
   "outputs": [],
   "source": [
    "dilution_factor = \"none\""
   ]
  },
  {
   "cell_type": "markdown",
   "metadata": {},
   "source": [
    "Below set the `haploid` setting to `False` if you are working with a diploid strain. "
   ]
  },
  {
   "cell_type": "code",
   "execution_count": 19,
   "metadata": {
    "collapsed": false
   },
   "outputs": [],
   "source": [
    "haploid = True"
   ]
  },
  {
   "cell_type": "markdown",
   "metadata": {},
   "source": [
    "#### That is all that is needed. You can now run this notebook and see the result at the bottom. You can also edit it further to view the individual steps prior to the results."
   ]
  },
  {
   "cell_type": "markdown",
   "metadata": {},
   "source": [
    "#  "
   ]
  },
  {
   "cell_type": "markdown",
   "metadata": {},
   "source": [
    "#  "
   ]
  },
  {
   "cell_type": "markdown",
   "metadata": {},
   "source": [
    "### Calculating yeast cell density of the sample from the standard curve:"
   ]
  },
  {
   "cell_type": "markdown",
   "metadata": {},
   "source": [
    "#### IF YOU JUST WANT THE RESULT BASED ON WHAT YOU ENTERED ABOVE, SKIP TO BOTTOM OF THIS NOTEBOOK."
   ]
  },
  {
   "cell_type": "markdown",
   "metadata": {},
   "source": [
    "#### (This is just the behind the scenes stuff.)"
   ]
  },
  {
   "cell_type": "code",
   "execution_count": 20,
   "metadata": {
    "collapsed": false
   },
   "outputs": [],
   "source": [
    "## PREPARATION AND HELPER FUNCTIONS FOR THE CODE ##\n",
    "import numpy\n",
    "\n",
    "# *****Standard Curve *********\n",
    "# *****************************\n",
    "\n",
    "# List of tuples of OD660 vs haploid number of cells per ml. First values is the\n",
    "# OD660 readings and 2nd are the number of haploid cells in the mL sample, as\n",
    "# provided for strain A364A. Cell densities for diploids are half those for\n",
    "# halploids as diploids and some mutants which are abnormally large will\n",
    "# scatter more light than the wildtype haploids at the same cell density.\n",
    "yeast_cell_density_by_OD660_tuples = [\n",
    "\t(0.000, 0.000e7),\n",
    "\t(0.010, 0.015e7),\n",
    "\t(0.020, 0.025e7),\n",
    "\t(0.030, 0.040e7),\n",
    "\t(0.040, 0.053e7),\n",
    "\t(0.050, 0.065e7),\n",
    "\t(0.060, 0.078e7),\n",
    "\t(0.070, 0.090e7),\n",
    "\t(0.080, 0.103e7),\n",
    "\t(0.090, 0.115e7),\n",
    "\t(0.100, 0.128e7),\n",
    "\t(0.110, 0.140e7),\n",
    "\t(0.120, 0.153e7),\n",
    "\t(0.130, 0.165e7),\n",
    "\t(0.140, 0.178e7),\n",
    "\t(0.150, 0.190e7),\n",
    "\t(0.160, 0.204e7),\n",
    "\t(0.170, 0.216e7),\n",
    "\t(0.180, 0.229e7),\n",
    "\t(0.190, 0.241e7),\n",
    "\t(0.200, 0.255e7),\n",
    "\t(0.210, 0.268e7),\n",
    "\t(0.220, 0.280e7),\n",
    "\t(0.230, 0.293e7),\n",
    "\t(0.240, 0.305e7),\n",
    "\t(0.250, 0.319e7),\n",
    "\t(0.260, 0.330e7),\n",
    "\t(0.270, 0.342e7),\n",
    "\t(0.280, 0.356e7),\n",
    "\t(0.290, 0.370e7),\n",
    "\t(0.300, 0.385e7),\n",
    "\t(0.310, 0.399e7),\n",
    "\t(0.320, 0.412e7),\n",
    "\t(0.330, 0.426e7),\n",
    "\t(0.340, 0.440e7),\n",
    "\t(0.350, 0.455e7),\n",
    "\t(0.360, 0.470e7),\n",
    "\t(0.370, 0.484e7),\n",
    "\t(0.380, 0.499e7),\n",
    "\t(0.390, 0.514e7),\n",
    "\t(0.400, 0.530e7),\n",
    "\t(0.410, 0.547e7),\n",
    "\t(0.420, 0.564e7),\n",
    "\t(0.430, 0.580e7),\n",
    "\t(0.440, 0.600e7),\n",
    "\t(0.450, 0.617e7),\n",
    "\t(0.460, 0.633e7),\n",
    "\t(0.470, 0.650e7),\n",
    "\t(0.480, 0.666e7),\n",
    "\t(0.490, 0.683e7),\n",
    "\t(0.500, 0.700e7),\n",
    "\t(0.510, 0.717e7),\n",
    "\t(0.520, 0.733e7),\n",
    "\t(0.530, 0.750e7),\n",
    "\t(0.540, 0.766e7),\n",
    "\t(0.550, 0.783e7),\n",
    "\t(0.560, 0.800e7),\n",
    "\t(0.570, 0.817e7),\n",
    "\t(0.580, 0.833e7),\n",
    "\t(0.590, 0.850e7),\n",
    "\t(0.600, 0.866e7),\n",
    "\t(0.610, 0.883e7),\n",
    "\t(0.620, 0.900e7),\n",
    "\t(0.630, 0.917e7),\n",
    "\t(0.640, 0.933e7),\n",
    "\t(0.650, 0.950e7),\n",
    "\t(0.660, 0.966e7),\n",
    "\t(0.670, 0.983e7),\n",
    "\t(0.680, 1.000e7),\n",
    "\t(0.690, 1.023e7),\n",
    "\t(0.700, 1.046e7),\n",
    "\t(0.710, 1.070e7),\n",
    "\t(0.720, 1.093e7),\n",
    "\t(0.730, 1.116e7),\n",
    "\t(0.740, 1.140e7),\n",
    "\t(0.750, 1.160e7),\n",
    "\t(0.760, 1.180e7),\n",
    "\t(0.770, 1.200e7),\n",
    "\t(0.780, 1.220e7),\n",
    "\t(0.790, 1.240e7),\n",
    "\t(0.800, 1.260e7),\n",
    "\t(0.810, 1.283e7),\n",
    "\t(0.820, 1.306e7),\n",
    "\t(0.830, 1.330e7),\n",
    "\t(0.840, 1.353e7),\n",
    "\t(0.850, 1.376e7),\n",
    "\t(0.860, 1.400e7),\n",
    "\t(0.870, 1.430e7),\n",
    "\t(0.880, 1.460e7),\n",
    "\t(0.890, 1.490e7),\n",
    "\t(0.900, 1.520e7),\n",
    "\t(0.910, 1.550e7),\n",
    "\t(0.920, 1.580e7),\n",
    "\t(0.930, 1.610e7),\n",
    "\t(0.940, 1.640e7),\n",
    "\t(0.950, 1.670e7),\n",
    "\t(0.960, 1.703e7),\n",
    "\t(0.970, 1.736e7),\n",
    "\t(0.980, 1.770e7),\n",
    "\t(0.990, 1.810e7),\n",
    "\t(1.000, 1.850e7),\n",
    "\t(1.010, 1.890e7),\n",
    "\t(1.020, 1.926e7),\n",
    "\t(1.030, 1.963e7),\n",
    "\t(1.040, 2.000e7),\n",
    "\t(1.050, 2.040e7),\n",
    "\t(1.060, 2.080e7),\n",
    "\t(1.070, 2.120e7),\n",
    "\t(1.080, 2.163e7),\n",
    "\t(1.090, 2.206e7),\n",
    "\t(1.100, 2.250e7),\n",
    "\t(1.110, 2.296e7),\n",
    "\t(1.120, 2.343e7),\n",
    "\t(1.130, 2.390e7),\n",
    "\t(1.140, 2.433e7),\n",
    "\t(1.150, 2.476e7),\n",
    "\t(1.160, 2.520e7),\n",
    "\t(1.170, 2.566e7),\n",
    "\t(1.180, 2.613e7),\n",
    "\t(1.190, 2.660e7),\n",
    "\t(1.200, 2.706e7),\n",
    "\t(1.210, 2.753e7),\n",
    "\t(1.220, 2.800e7),\n",
    "\t(1.230, 2.850e7),\n",
    "\t(1.240, 2.900e7),\n",
    "\t(1.250, 2.950e7),\n",
    "\t(1.260, 3.002e7),\n",
    "\t(1.270, 3.055e7),\n",
    "\t(1.280, 3.107e7),\n",
    "\t(1.290, 3.160e7),\n",
    "\t(1.300, 3.220e7),\n",
    "\t(1.310, 3.280e7),\n",
    "\t(1.320, 3.340e7),\n",
    "\t(1.330, 3.400e7),\n",
    "\t(1.340, 3.460e7),\n",
    "\t(1.350, 3.520e7),\n",
    "\t(1.360, 3.580e7),\n",
    "\t(1.370, 3.640e7),\n",
    "\t(1.380, 3.700e7),\n",
    "\t(1.390, 3.760e7),\n",
    "\t(1.400, 3.820e7),\n",
    "\t(1.410, 3.880e7),\n",
    "\t(1.420, 3.940e7),\n",
    "\t(1.430, 4.000e7),\n",
    "\t(1.440, 4.065e7),\n",
    "\t(1.450, 4.130e7),\n",
    "\t(1.460, 4.200e7),\n",
    "\t(1.470, 4.270e7),\n",
    "\t(1.480, 4.340e7),\n",
    "\t(1.490, 4.410e7),\n",
    "\t(1.500, 4.480e7),\n",
    "\t(1.510, 4.550e7),\n",
    "\t(1.520, 4.625e7),\n",
    "\t(1.530, 4.700e7),\n",
    "\t(1.540, 4.775e7),\n",
    "\t(1.550, 4.850e7),\n",
    "\t(1.560, 4.925e7),\n",
    "\t(1.570, 5.000e7),\n",
    "\t(1.580, 5.075e7),\n",
    "\t(1.590, 5.150e7),\n",
    "\t(1.600, 5.225e7),\n",
    "\t(1.610, 5.300e7),\n",
    "\t(1.620, 5.380e7),\n",
    "\t(1.630, 5.460e7),\n",
    "\t(1.640, 5.540e7),\n",
    "\t(1.650, 5.630e7),\n",
    "\t(1.660, 5.700e7),\n",
    "\t(1.670, 5.800e7),\n",
    "\t(1.680, 5.890e7),\n",
    "\t(1.690, 5.980e7),\n",
    "\t(1.700, 6.070e7)\n",
    "]\n",
    "\n",
    "\n",
    "def unzip(iterable):\n",
    "\t'''\n",
    "\tfunction unzips 2-item tuples to lists of each separate item\n",
    "\tbased on\n",
    "\thttp://stackoverflow.com/questions/19339/a-transpose-unzip-function-in-python-inverse-of-zip\n",
    "\tand\n",
    "\thttp://stackoverflow.com/questions/13635032/what-is-the-inverse-function-of-zip-in-python\n",
    "\t'''\n",
    "\treturn zip(*iterable)\n",
    "\n",
    "def abs_in_range(abs):\n",
    "\t'''\n",
    "\tThe function checks to make sure value of absorbance provided is in range\n",
    "\tof OD660 values covered by standard curve. Numpy linear interpolation I'll\n",
    "\tuse doesn't cover handling if value to be checked on curve is not in between\n",
    "\tat least two points on curve. Defaults to just giving highest or lowest\n",
    "\tcorresponding value as shown at http://docs.scipy.org/doc/numpy/reference/generated/numpy.interp.html\n",
    "\twhen value of 0 given.\n",
    "\n",
    "\tReturns true if in range or False when out of range.\n",
    "\n",
    "\tBased on\n",
    "\thttp://stackoverflow.com/questions/618093/how-to-find-whether-a-number-belongs-to-a-particular-range-in-python.\n",
    "    \n",
    "    Note that for the unzip, in Python 2 you can get it to seemingly work, or at least not report\n",
    "    an error, if only include one variable to unzip the two items into. However, Python 3 throws \n",
    "    an error for the next line because unpacking gets done wrong and/or cannot compare to a \n",
    "    integers to tuples, which is what it is if not unpacked right. And so best to unpack\n",
    "    both, putting the unused one into the `values_not_used_in_this_function`.\n",
    "    \n",
    "\t'''\n",
    "\tod660_values_list, values_not_used_in_this_function = unzip(\n",
    "\t\tyeast_cell_density_by_OD660_tuples)\n",
    "\treturn True if min(od660_values_list) <= abs <= max(\n",
    "\t\tod660_values_list) else False\n",
    "\n",
    "\n",
    "\n",
    "\n",
    "\n",
    "def obtain_value_from_std_curve(abs660):\n",
    "\t'''\n",
    "\tFunction takes absorbance at 660 nm and determines cells per ml using\n",
    "\tstandard curve of OD660 vs cell density.\n",
    "\n",
    "\tReturns cells per ml for the sample.\n",
    "\n",
    "\tApproach based on http://stackoverflow.com/questions/25057943/getting-y-value-of-a-curve-given-an-x-value\n",
    "\tand\n",
    "\thttp://docs.scipy.org/doc/numpy/reference/generated/numpy.interp.html\n",
    "\t'''\n",
    "\t# cast the standard curve tuples list for use as x and y values of\n",
    "\t# curve in numpy interpolation\n",
    "\tod660_values_list, cells_per_ml_values_list = unzip(\n",
    "\t\tyeast_cell_density_by_OD660_tuples)\n",
    "\n",
    "\t# use one-dimensional linear interpolation by Numpy\n",
    "\t# http://docs.scipy.org/doc/numpy/reference/generated/numpy.interp.html\n",
    "\treturn numpy.interp(abs660, od660_values_list, cells_per_ml_values_list)\n",
    "\n",
    "\n",
    "def represents_float(v):\n",
    "\t'''\n",
    "\tfunction to see if an varibale can be typecast a float. Returns True if it\n",
    "\tcan.\n",
    "\n",
    "\tbased on\n",
    "\thttp://stackoverflow.com/questions/1265665/python-check-if-a-string-represents-an-int-without-using-try-except\n",
    "\t'''\n",
    "\ttry:\n",
    "\t\tfloat(v)\n",
    "\t\treturn True\n",
    "\texcept ValueError:\n",
    "\t\treturn False\n",
    "\n",
    "\n",
    "def cells_per_ml_calc (abs, dilution_factor):\n",
    "\t'''\n",
    "\t\tThe function takes an absorbance at 660 nm and dilution factor and then\n",
    "\treturns an approximation of the number of yeast cells per ml sample and a\n",
    "\tboolean indicating if errors involving the provided dilution_factor are\n",
    "\tdetected. The approach described in the Methods in Yeast Gentics Appendix\n",
    "\tentitled \"Measuring Yeast Cell Density by Spectrophotometry\".\n",
    "\n",
    "\n",
    "\tIt is an approximation because it is based on a standard curve genrated for\n",
    "\tyeast strain A364A and may not be valid for all yeast. If you need accurate\n",
    "\tnumbers, you should count your cells, or make a standard curve for your own\n",
    "\tfuture use, with a Coulter counter or a hemocytometer.\n",
    "\n",
    "\tDilution factor is in the terms of what number do you need to multiply the\n",
    "\toriginal culture volume to get the final volume,\n",
    "\tsee http://www.hemocytometer.org/dilution-factor/ . In other words,\n",
    "\tdilution_factor equals the fold dilution.\n",
    "\tSome examples:\n",
    "\t * For a 10-fold dilution, on other words 1 parts original culure plus 9 parts\n",
    "\t   diluent, the dilution_factor argument is 10.\n",
    "\t * For a 5-fold dilution, on other words 1 parts original culure plus 4 parts\n",
    "\t   diluent, the dilution_factor is 5.\n",
    "\t * For a 2-fold or `1-to-1` dilution, on other words 1 parts original culure\n",
    "\t   plus 1 parts diluent, the dilution_factor is 2.\n",
    "\n",
    "\tTechnically, no dilution means this factor will be 1 for that case.\n",
    "\tHowever, as calculating that is a bit much to ask of anyone not\n",
    "\tactually diluting a sample, to make things easy the dilution factor\n",
    "\targument can be a string 'None', without quotes, and the calculations will\n",
    "\tbe handled appropriately. Likewise, dilution_factor can also simply be\n",
    "\tdesignated the number `0` treat the sample as undiluted.\n",
    "\n",
    "\tThe function also returns a Boolean as to whether the dilution_factor was\n",
    "\tneeded in a calculation, but was not provided in form that can be converted\n",
    "\tto a float for multiplication.\n",
    "\t'''\n",
    "\t# Use provided absorbance to determine cells per ml using standard curve of\n",
    "\t# OD660 vs cell density.\n",
    "\tcalculated_cells_per_ml = obtain_value_from_std_curve(abs)\n",
    "\n",
    "\n",
    "\t#**** ACCOUNTING FOR DILUTION FACTOR SECTION*****\n",
    "\t# Was planning to typecast dilution_factor to a string to more easily handle comparisons\n",
    "\t# next. This conversion allows dilution_factor string case to be lowered for\n",
    "\t# comparison; otherwise, when the `.lower()` method is applied in a series\n",
    "\t# of comparisons, it throws an error if it is not a string at the time.\n",
    "\t# However, oddly in the comparison, it did not throw an error when I tested in IPython. So I didn't onvert first.\n",
    "\n",
    "\tdilution_factor_needed_but_not_float_error = False # State will be examined\n",
    "\t# if dilution_factor calculation needs to be done later. Helps in feedback\n",
    "\t# for when typecast dilution_factor back to float for calculation step.\n",
    "\n",
    "\t# NOW APPPLY dilution_factor TO CALCULATION, handling the exception cases of\n",
    "\t# dilution_factor of `1`, `none`, or `0` as indicating no dilution of the\n",
    "\t# sample.\n",
    "\tif (dilution_factor != \"1\") or (dilution_factor.lower() != \"none\") or (\n",
    "\t\tdilution_factor.lower() != \"zero\") or (dilution_factor != \"1\"):\n",
    "\t\tif represents_float(dilution_factor):\n",
    "\t\t\tcalculated_cells_per_ml = calculated_cells_per_ml * float(dilution_factor)\n",
    "\t\telse:\n",
    "\t\t\tdilution_factor_needed_but_not_float_error  = True\n",
    "\t#**** END ACCOUNTING FOR DILUTION FACTOR SECTION *****\n",
    "\n",
    "\treturn calculated_cells_per_ml, dilution_factor_needed_but_not_float_error\n",
    "\n",
    "def transformation_inoculation_volume_calc (cells_per_ml):\n",
    "\t'''\n",
    "\tThe function takes the cells per ml of a yeast culture and calculates what\n",
    "\tvolume to use to inoculate a total of 50 mL of media for carrying out a\n",
    "\ttypical yeast cell transformation per the approach described in the Methods\n",
    "\tin Yeast Gentics Appendix entitled \"High-efficiency Transformation of Yeast\".\n",
    "\t'''\n",
    "\t#### *** Use provided cells per ml to determine volume. *** ###\n",
    "\t# Final need is 50 ml at 5.0E+06 cells per mL or 2.50E+08 total cells in\n",
    "\t# 50 mL.\n",
    "\tvolume = 2.50E+08/cells_per_ml\n",
    "\treturn volume"
   ]
  },
  {
   "cell_type": "code",
   "execution_count": 21,
   "metadata": {
    "collapsed": false
   },
   "outputs": [],
   "source": [
    "# Make sure provided absorbance in range covered by standard curve\n",
    "out_of_range_error = abs_in_range(absorbance)\n",
    "# TO DO: ADD HANDLING OF ERROR"
   ]
  },
  {
   "cell_type": "markdown",
   "metadata": {},
   "source": [
    "**The standard curve resulting from the data points is represented in a visual way in the `Out` cell below.**  \n",
    "It is interactive; hover over the curve to easily read values for both variables any where along the curve."
   ]
  },
  {
   "cell_type": "code",
   "execution_count": 22,
   "metadata": {
    "collapsed": false
   },
   "outputs": [
    {
     "data": {
      "text/html": [
       "\n",
       "    <div class=\"bk-banner\">\n",
       "        <a href=\"http://bokeh.pydata.org\" target=\"_blank\" class=\"bk-logo bk-logo-small bk-logo-notebook\"></a>\n",
       "        <span id=\"48253fe8-35fd-493e-bc12-f31c5c59f425\">Loading BokehJS ...</span>\n",
       "    </div>"
      ]
     },
     "metadata": {},
     "output_type": "display_data"
    },
    {
     "data": {
      "application/javascript": [
       "\n",
       "(function(global) {\n",
       "  function now() {\n",
       "    return new Date();\n",
       "  }\n",
       "\n",
       "  if (typeof (window._bokeh_onload_callbacks) === \"undefined\") {\n",
       "    window._bokeh_onload_callbacks = [];\n",
       "  }\n",
       "\n",
       "  function run_callbacks() {\n",
       "    window._bokeh_onload_callbacks.forEach(function(callback) { callback() });\n",
       "    delete window._bokeh_onload_callbacks\n",
       "    console.info(\"Bokeh: all callbacks have finished\");\n",
       "  }\n",
       "\n",
       "  function load_libs(js_urls, callback) {\n",
       "    window._bokeh_onload_callbacks.push(callback);\n",
       "    if (window._bokeh_is_loading > 0) {\n",
       "      console.log(\"Bokeh: BokehJS is being loaded, scheduling callback at\", now());\n",
       "      return null;\n",
       "    }\n",
       "    if (js_urls == null || js_urls.length === 0) {\n",
       "      run_callbacks();\n",
       "      return null;\n",
       "    }\n",
       "    console.log(\"Bokeh: BokehJS not loaded, scheduling load and callback at\", now());\n",
       "    window._bokeh_is_loading = js_urls.length;\n",
       "    for (var i = 0; i < js_urls.length; i++) {\n",
       "      var url = js_urls[i];\n",
       "      var s = document.createElement('script');\n",
       "      s.src = url;\n",
       "      s.async = false;\n",
       "      s.onreadystatechange = s.onload = function() {\n",
       "        window._bokeh_is_loading--;\n",
       "        if (window._bokeh_is_loading === 0) {\n",
       "          console.log(\"Bokeh: all BokehJS libraries loaded\");\n",
       "          run_callbacks()\n",
       "        }\n",
       "      };\n",
       "      s.onerror = function() {\n",
       "        console.warn(\"failed to load library \" + url);\n",
       "      };\n",
       "      console.log(\"Bokeh: injecting script tag for BokehJS library: \", url);\n",
       "      document.getElementsByTagName(\"head\")[0].appendChild(s);\n",
       "    }\n",
       "  };\n",
       "\n",
       "  var js_urls = ['https://cdn.pydata.org/bokeh/release/bokeh-0.11.1.min.js', 'https://cdn.pydata.org/bokeh/release/bokeh-widgets-0.11.1.min.js', 'https://cdn.pydata.org/bokeh/release/bokeh-compiler-0.11.1.min.js'];\n",
       "\n",
       "  var inline_js = [\n",
       "    function(Bokeh) {\n",
       "      Bokeh.set_log_level(\"info\");\n",
       "    },\n",
       "    \n",
       "    function(Bokeh) {\n",
       "      Bokeh.$(\"#48253fe8-35fd-493e-bc12-f31c5c59f425\").text(\"BokehJS successfully loaded\");\n",
       "    },\n",
       "    function(Bokeh) {\n",
       "      console.log(\"Bokeh: injecting CSS: https://cdn.pydata.org/bokeh/release/bokeh-0.11.1.min.css\");\n",
       "      Bokeh.embed.inject_css(\"https://cdn.pydata.org/bokeh/release/bokeh-0.11.1.min.css\");\n",
       "      console.log(\"Bokeh: injecting CSS: https://cdn.pydata.org/bokeh/release/bokeh-widgets-0.11.1.min.css\");\n",
       "      Bokeh.embed.inject_css(\"https://cdn.pydata.org/bokeh/release/bokeh-widgets-0.11.1.min.css\");\n",
       "    }\n",
       "  ];\n",
       "\n",
       "  function run_inline_js() {\n",
       "    for (var i = 0; i < inline_js.length; i++) {\n",
       "      inline_js[i](window.Bokeh);\n",
       "    }\n",
       "  }\n",
       "\n",
       "  if (window._bokeh_is_loading === 0) {\n",
       "    console.log(\"Bokeh: BokehJS loaded, going straight to plotting\");\n",
       "    run_inline_js();\n",
       "  } else {\n",
       "    load_libs(js_urls, function() {\n",
       "      console.log(\"Bokeh: BokehJS plotting callback run at\", now());\n",
       "      run_inline_js();\n",
       "    });\n",
       "  }\n",
       "}(this));"
      ]
     },
     "metadata": {},
     "output_type": "display_data"
    },
    {
     "data": {
      "text/html": [
       "\n",
       "\n",
       "    <div class=\"plotdiv\" id=\"4adeb4f1-f679-48a2-9c80-355ad4272718\"></div>\n",
       "<script type=\"text/javascript\">\n",
       "  \n",
       "  (function(global) {\n",
       "    function now() {\n",
       "      return new Date();\n",
       "    }\n",
       "  \n",
       "    if (typeof (window._bokeh_onload_callbacks) === \"undefined\") {\n",
       "      window._bokeh_onload_callbacks = [];\n",
       "    }\n",
       "  \n",
       "    function run_callbacks() {\n",
       "      window._bokeh_onload_callbacks.forEach(function(callback) { callback() });\n",
       "      delete window._bokeh_onload_callbacks\n",
       "      console.info(\"Bokeh: all callbacks have finished\");\n",
       "    }\n",
       "  \n",
       "    function load_libs(js_urls, callback) {\n",
       "      window._bokeh_onload_callbacks.push(callback);\n",
       "      if (window._bokeh_is_loading > 0) {\n",
       "        console.log(\"Bokeh: BokehJS is being loaded, scheduling callback at\", now());\n",
       "        return null;\n",
       "      }\n",
       "      if (js_urls == null || js_urls.length === 0) {\n",
       "        run_callbacks();\n",
       "        return null;\n",
       "      }\n",
       "      console.log(\"Bokeh: BokehJS not loaded, scheduling load and callback at\", now());\n",
       "      window._bokeh_is_loading = js_urls.length;\n",
       "      for (var i = 0; i < js_urls.length; i++) {\n",
       "        var url = js_urls[i];\n",
       "        var s = document.createElement('script');\n",
       "        s.src = url;\n",
       "        s.async = false;\n",
       "        s.onreadystatechange = s.onload = function() {\n",
       "          window._bokeh_is_loading--;\n",
       "          if (window._bokeh_is_loading === 0) {\n",
       "            console.log(\"Bokeh: all BokehJS libraries loaded\");\n",
       "            run_callbacks()\n",
       "          }\n",
       "        };\n",
       "        s.onerror = function() {\n",
       "          console.warn(\"failed to load library \" + url);\n",
       "        };\n",
       "        console.log(\"Bokeh: injecting script tag for BokehJS library: \", url);\n",
       "        document.getElementsByTagName(\"head\")[0].appendChild(s);\n",
       "      }\n",
       "    };var element = document.getElementById(\"4adeb4f1-f679-48a2-9c80-355ad4272718\");\n",
       "    if (element == null) {\n",
       "      console.log(\"Bokeh: ERROR: autoload.js configured with elementid '4adeb4f1-f679-48a2-9c80-355ad4272718' but no matching script tag was found. \")\n",
       "      return false;\n",
       "    }\n",
       "  \n",
       "    var js_urls = [];\n",
       "  \n",
       "    var inline_js = [\n",
       "      function(Bokeh) {\n",
       "        Bokeh.$(function() {\n",
       "            var docs_json = {\"8d1fbddc-1dcd-4d8c-b938-f9fd79efd764\":{\"roots\":{\"references\":[{\"attributes\":{\"callback\":null},\"id\":\"08baf37f-8e31-47c9-8f62-3a5c963e0368\",\"type\":\"DataRange1d\"},{\"attributes\":{\"callback\":null},\"id\":\"da996631-ae61-4e83-b462-07d735f2d587\",\"type\":\"DataRange1d\"},{\"attributes\":{\"axis_label\":\"cells per ml (x 10^7)\",\"formatter\":{\"id\":\"c82521cf-aba7-47f2-8cad-6ab4224f8bb0\",\"type\":\"BasicTickFormatter\"},\"plot\":{\"id\":\"35a49a26-ace9-43eb-b089-1998f3329585\",\"subtype\":\"Figure\",\"type\":\"Plot\"},\"ticker\":{\"id\":\"bd9fc903-c582-4550-b96c-50041ba215c6\",\"type\":\"BasicTicker\"}},\"id\":\"fd366b4f-86af-4edf-8deb-20da67922b64\",\"type\":\"LinearAxis\"},{\"attributes\":{},\"id\":\"d6b249a2-cb95-4cc8-814e-849a32091dbf\",\"type\":\"ToolEvents\"},{\"attributes\":{\"plot\":{\"id\":\"35a49a26-ace9-43eb-b089-1998f3329585\",\"subtype\":\"Figure\",\"type\":\"Plot\"},\"ticker\":{\"id\":\"bd9fc903-c582-4550-b96c-50041ba215c6\",\"type\":\"BasicTicker\"}},\"id\":\"6d1017d6-a1a0-4c27-b388-900f44bd45d9\",\"type\":\"Grid\"},{\"attributes\":{\"line_color\":{\"value\":\"#1f77b4\"},\"line_width\":{\"value\":3},\"x\":{\"field\":\"x\"},\"y\":{\"field\":\"y\"}},\"id\":\"d43e300e-207a-4dd1-9f38-c28bd706ec60\",\"type\":\"Line\"},{\"attributes\":{\"callback\":null,\"plot\":{\"id\":\"35a49a26-ace9-43eb-b089-1998f3329585\",\"subtype\":\"Figure\",\"type\":\"Plot\"},\"tooltips\":[[\"OD, cells/ml\",\"$y, $x\"]]},\"id\":\"2eb5c8fd-03bf-4f0e-b962-84e61db278f4\",\"type\":\"HoverTool\"},{\"attributes\":{\"axis_label\":\"OD_660\",\"formatter\":{\"id\":\"b2360882-7f03-43ce-8863-9f7913a7a1cf\",\"type\":\"BasicTickFormatter\"},\"plot\":{\"id\":\"a28c8802-1440-4dba-97f9-875e0dd2c6dc\",\"subtype\":\"Figure\",\"type\":\"Plot\"},\"ticker\":{\"id\":\"650fa0a1-944d-4535-afe5-7f97f6c2a4a2\",\"type\":\"BasicTicker\"}},\"id\":\"cd57134b-04ac-41cc-8b67-6e60bf3c86dc\",\"type\":\"LinearAxis\"},{\"attributes\":{\"axis_label\":\"OD_660\",\"formatter\":{\"id\":\"48809e26-f4c0-49f4-9019-7a5e445b1259\",\"type\":\"BasicTickFormatter\"},\"plot\":{\"id\":\"35a49a26-ace9-43eb-b089-1998f3329585\",\"subtype\":\"Figure\",\"type\":\"Plot\"},\"ticker\":{\"id\":\"a674aed2-4e44-4f52-bce2-7ab2db40578b\",\"type\":\"BasicTicker\"}},\"id\":\"292bb543-4ee3-4234-a233-8ab220a78c0f\",\"type\":\"LinearAxis\"},{\"attributes\":{\"line_alpha\":{\"value\":0.1},\"line_color\":{\"value\":\"#1f77b4\"},\"line_width\":{\"value\":3},\"x\":{\"field\":\"x\"},\"y\":{\"field\":\"y\"}},\"id\":\"347ce0ea-e246-4c88-983f-e18771fe6289\",\"type\":\"Line\"},{\"attributes\":{\"callback\":null,\"column_names\":[\"y\",\"x\"],\"data\":{\"x\":[0.0,0.015,0.025,0.04,0.053,0.065,0.078,0.09,0.103,0.115,0.128,0.14,0.153,0.165,0.178,0.19,0.204,0.216,0.229,0.241,0.255,0.268,0.28,0.293,0.305,0.319,0.33,0.342,0.356,0.37,0.385,0.399,0.412,0.426,0.44,0.455,0.47,0.484,0.499,0.514,0.53,0.547,0.564,0.58,0.6,0.617,0.633,0.65,0.666,0.683,0.7,0.717,0.733,0.75,0.766,0.783,0.8,0.817,0.833,0.85,0.866,0.883,0.9,0.917,0.933,0.95,0.966,0.983,1.0,1.023,1.046,1.07,1.093,1.116,1.14,1.16,1.18,1.2,1.22,1.24,1.26,1.283,1.306,1.33,1.353,1.376,1.4,1.43,1.46,1.49,1.52,1.55,1.58,1.61,1.64,1.67,1.703,1.736,1.77,1.81,1.85,1.89,1.926,1.963,2.0,2.04,2.08,2.12,2.163,2.206,2.25,2.296,2.343,2.39,2.433,2.476,2.52,2.566,2.613,2.66,2.706,2.753,2.8,2.85,2.9,2.95,3.002,3.055,3.107,3.16,3.22,3.28,3.34,3.4,3.46,3.52,3.58,3.64,3.7,3.76,3.82,3.88,3.94,4.0,4.065,4.13,4.2,4.27,4.34,4.41,4.48,4.55,4.625,4.7,4.775,4.85,4.925,5.0,5.075,5.15,5.225,5.3,5.38,5.46,5.54,5.63,5.7,5.8,5.89,5.98,6.07],\"y\":[0.0,0.01,0.02,0.03,0.04,0.05,0.06,0.07,0.08,0.09,0.1,0.11,0.12,0.13,0.14,0.15,0.16,0.17,0.18,0.19,0.2,0.21,0.22,0.23,0.24,0.25,0.26,0.27,0.28,0.29,0.3,0.31,0.32,0.33,0.34,0.35,0.36,0.37,0.38,0.39,0.4,0.41,0.42,0.43,0.44,0.45,0.46,0.47,0.48,0.49,0.5,0.51,0.52,0.53,0.54,0.55,0.56,0.57,0.58,0.59,0.6,0.61,0.62,0.63,0.64,0.65,0.66,0.67,0.68,0.69,0.7,0.71,0.72,0.73,0.74,0.75,0.76,0.77,0.78,0.79,0.8,0.81,0.82,0.83,0.84,0.85,0.86,0.87,0.88,0.89,0.9,0.91,0.92,0.93,0.94,0.95,0.96,0.97,0.98,0.99,1.0,1.01,1.02,1.03,1.04,1.05,1.06,1.07,1.08,1.09,1.1,1.11,1.12,1.13,1.14,1.15,1.16,1.17,1.18,1.19,1.2,1.21,1.22,1.23,1.24,1.25,1.26,1.27,1.28,1.29,1.3,1.31,1.32,1.33,1.34,1.35,1.36,1.37,1.38,1.39,1.4,1.41,1.42,1.43,1.44,1.45,1.46,1.47,1.48,1.49,1.5,1.51,1.52,1.53,1.54,1.55,1.56,1.57,1.58,1.59,1.6,1.61,1.62,1.63,1.64,1.65,1.66,1.67,1.68,1.69,1.7]}},\"id\":\"892c21c5-efa4-43dd-9727-4ba1b93cb82d\",\"type\":\"ColumnDataSource\"},{\"attributes\":{\"callback\":null},\"id\":\"99d9f6d7-cc7f-4f13-9122-e67f65f2fa6f\",\"type\":\"DataRange1d\"},{\"attributes\":{\"dimension\":1,\"plot\":{\"id\":\"a28c8802-1440-4dba-97f9-875e0dd2c6dc\",\"subtype\":\"Figure\",\"type\":\"Plot\"},\"ticker\":{\"id\":\"650fa0a1-944d-4535-afe5-7f97f6c2a4a2\",\"type\":\"BasicTicker\"}},\"id\":\"ae1b91c1-14f0-4cc2-9c40-53e6739be049\",\"type\":\"Grid\"},{\"attributes\":{},\"id\":\"d54ccb6b-b1b5-4956-9844-3988ca309c57\",\"type\":\"BasicTicker\"},{\"attributes\":{\"data_source\":{\"id\":\"892c21c5-efa4-43dd-9727-4ba1b93cb82d\",\"type\":\"ColumnDataSource\"},\"glyph\":{\"id\":\"d43e300e-207a-4dd1-9f38-c28bd706ec60\",\"type\":\"Line\"},\"hover_glyph\":null,\"nonselection_glyph\":{\"id\":\"347ce0ea-e246-4c88-983f-e18771fe6289\",\"type\":\"Line\"},\"selection_glyph\":null},\"id\":\"4613ca89-c61c-4b0b-b21e-9aeeb83b18c0\",\"type\":\"GlyphRenderer\"},{\"attributes\":{\"below\":[{\"id\":\"fd366b4f-86af-4edf-8deb-20da67922b64\",\"type\":\"LinearAxis\"}],\"left\":[{\"id\":\"292bb543-4ee3-4234-a233-8ab220a78c0f\",\"type\":\"LinearAxis\"}],\"renderers\":[{\"id\":\"fd366b4f-86af-4edf-8deb-20da67922b64\",\"type\":\"LinearAxis\"},{\"id\":\"6d1017d6-a1a0-4c27-b388-900f44bd45d9\",\"type\":\"Grid\"},{\"id\":\"292bb543-4ee3-4234-a233-8ab220a78c0f\",\"type\":\"LinearAxis\"},{\"id\":\"57fd8ae6-18b7-40bb-85fd-1daa4598dbcc\",\"type\":\"Grid\"},{\"id\":\"4613ca89-c61c-4b0b-b21e-9aeeb83b18c0\",\"type\":\"GlyphRenderer\"}],\"title\":\"Optical Density vs. Cell Density\",\"tool_events\":{\"id\":\"d6b249a2-cb95-4cc8-814e-849a32091dbf\",\"type\":\"ToolEvents\"},\"tools\":[{\"id\":\"2eb5c8fd-03bf-4f0e-b962-84e61db278f4\",\"type\":\"HoverTool\"}],\"x_range\":{\"id\":\"c60a3bfd-f5f8-4b92-a10e-7ffacad51518\",\"type\":\"DataRange1d\"},\"y_range\":{\"id\":\"da996631-ae61-4e83-b462-07d735f2d587\",\"type\":\"DataRange1d\"}},\"id\":\"35a49a26-ace9-43eb-b089-1998f3329585\",\"subtype\":\"Figure\",\"type\":\"Plot\"},{\"attributes\":{},\"id\":\"43a2b1ee-415e-4e61-b958-a8c839f41864\",\"type\":\"ToolEvents\"},{\"attributes\":{\"line_alpha\":{\"value\":0.1},\"line_color\":{\"value\":\"#1f77b4\"},\"line_width\":{\"value\":3},\"x\":{\"field\":\"x\"},\"y\":{\"field\":\"y\"}},\"id\":\"9fd0f401-a4cf-4904-baa9-5e274332710d\",\"type\":\"Line\"},{\"attributes\":{\"data_source\":{\"id\":\"27f0968a-90a3-49d9-85d7-554e443ff59b\",\"type\":\"ColumnDataSource\"},\"glyph\":{\"id\":\"c4aad005-82ec-48fb-9a75-b740a3b43ab3\",\"type\":\"Line\"},\"hover_glyph\":null,\"nonselection_glyph\":{\"id\":\"9fd0f401-a4cf-4904-baa9-5e274332710d\",\"type\":\"Line\"},\"selection_glyph\":null},\"id\":\"ee18dd0e-d70f-4504-b4e9-c195d28bb12d\",\"type\":\"GlyphRenderer\"},{\"attributes\":{},\"id\":\"a674aed2-4e44-4f52-bce2-7ab2db40578b\",\"type\":\"BasicTicker\"},{\"attributes\":{},\"id\":\"99fe3a51-2575-470f-8dd8-0d3f84201c83\",\"type\":\"BasicTickFormatter\"},{\"attributes\":{\"line_color\":{\"value\":\"#1f77b4\"},\"line_width\":{\"value\":3},\"x\":{\"field\":\"x\"},\"y\":{\"field\":\"y\"}},\"id\":\"c4aad005-82ec-48fb-9a75-b740a3b43ab3\",\"type\":\"Line\"},{\"attributes\":{\"plot\":{\"id\":\"a28c8802-1440-4dba-97f9-875e0dd2c6dc\",\"subtype\":\"Figure\",\"type\":\"Plot\"},\"ticker\":{\"id\":\"d54ccb6b-b1b5-4956-9844-3988ca309c57\",\"type\":\"BasicTicker\"}},\"id\":\"c6c6e8d8-c1c1-468d-b006-f386c510ab07\",\"type\":\"Grid\"},{\"attributes\":{},\"id\":\"bd9fc903-c582-4550-b96c-50041ba215c6\",\"type\":\"BasicTicker\"},{\"attributes\":{},\"id\":\"b2360882-7f03-43ce-8863-9f7913a7a1cf\",\"type\":\"BasicTickFormatter\"},{\"attributes\":{},\"id\":\"48809e26-f4c0-49f4-9019-7a5e445b1259\",\"type\":\"BasicTickFormatter\"},{\"attributes\":{\"dimension\":1,\"plot\":{\"id\":\"35a49a26-ace9-43eb-b089-1998f3329585\",\"subtype\":\"Figure\",\"type\":\"Plot\"},\"ticker\":{\"id\":\"a674aed2-4e44-4f52-bce2-7ab2db40578b\",\"type\":\"BasicTicker\"}},\"id\":\"57fd8ae6-18b7-40bb-85fd-1daa4598dbcc\",\"type\":\"Grid\"},{\"attributes\":{\"axis_label\":\"cells per ml (x 10^7)\",\"formatter\":{\"id\":\"99fe3a51-2575-470f-8dd8-0d3f84201c83\",\"type\":\"BasicTickFormatter\"},\"plot\":{\"id\":\"a28c8802-1440-4dba-97f9-875e0dd2c6dc\",\"subtype\":\"Figure\",\"type\":\"Plot\"},\"ticker\":{\"id\":\"d54ccb6b-b1b5-4956-9844-3988ca309c57\",\"type\":\"BasicTicker\"}},\"id\":\"00870fa3-ed0b-4cfd-9382-e52ca4bdeef4\",\"type\":\"LinearAxis\"},{\"attributes\":{\"below\":[{\"id\":\"00870fa3-ed0b-4cfd-9382-e52ca4bdeef4\",\"type\":\"LinearAxis\"}],\"left\":[{\"id\":\"cd57134b-04ac-41cc-8b67-6e60bf3c86dc\",\"type\":\"LinearAxis\"}],\"renderers\":[{\"id\":\"00870fa3-ed0b-4cfd-9382-e52ca4bdeef4\",\"type\":\"LinearAxis\"},{\"id\":\"c6c6e8d8-c1c1-468d-b006-f386c510ab07\",\"type\":\"Grid\"},{\"id\":\"cd57134b-04ac-41cc-8b67-6e60bf3c86dc\",\"type\":\"LinearAxis\"},{\"id\":\"ae1b91c1-14f0-4cc2-9c40-53e6739be049\",\"type\":\"Grid\"},{\"id\":\"ee18dd0e-d70f-4504-b4e9-c195d28bb12d\",\"type\":\"GlyphRenderer\"}],\"title\":\"Optical Density vs. Cell Density\",\"tool_events\":{\"id\":\"43a2b1ee-415e-4e61-b958-a8c839f41864\",\"type\":\"ToolEvents\"},\"tools\":[{\"id\":\"a4793a4c-5801-4f83-a3c9-da1b78fb1ae1\",\"type\":\"HoverTool\"}],\"x_range\":{\"id\":\"99d9f6d7-cc7f-4f13-9122-e67f65f2fa6f\",\"type\":\"DataRange1d\"},\"y_range\":{\"id\":\"08baf37f-8e31-47c9-8f62-3a5c963e0368\",\"type\":\"DataRange1d\"}},\"id\":\"a28c8802-1440-4dba-97f9-875e0dd2c6dc\",\"subtype\":\"Figure\",\"type\":\"Plot\"},{\"attributes\":{\"callback\":null,\"column_names\":[\"y\",\"x\"],\"data\":{\"x\":[0.0,0.015,0.025,0.04,0.053,0.065,0.078,0.09,0.103,0.115,0.128,0.14,0.153,0.165,0.178,0.19,0.204,0.216,0.229,0.241,0.255,0.268,0.28,0.293,0.305,0.319,0.33,0.342,0.356,0.37,0.385,0.399,0.412,0.426,0.44,0.455,0.47,0.484,0.499,0.514,0.53,0.547,0.564,0.58,0.6,0.617,0.633,0.65,0.666,0.683,0.7,0.717,0.733,0.75,0.766,0.783,0.8,0.817,0.833,0.85,0.866,0.883,0.9,0.917,0.933,0.95,0.966,0.983,1.0,1.023,1.046,1.07,1.093,1.116,1.14,1.16,1.18,1.2,1.22,1.24,1.26,1.283,1.306,1.33,1.353,1.376,1.4,1.43,1.46,1.49,1.52,1.55,1.58,1.61,1.64,1.67,1.703,1.736,1.77,1.81,1.85,1.89,1.926,1.963,2.0,2.04,2.08,2.12,2.163,2.206,2.25,2.296,2.343,2.39,2.433,2.476,2.52,2.566,2.613,2.66,2.706,2.753,2.8,2.85,2.9,2.95,3.002,3.055,3.107,3.16,3.22,3.28,3.34,3.4,3.46,3.52,3.58,3.64,3.7,3.76,3.82,3.88,3.94,4.0,4.065,4.13,4.2,4.27,4.34,4.41,4.48,4.55,4.625,4.7,4.775,4.85,4.925,5.0,5.075,5.15,5.225,5.3,5.38,5.46,5.54,5.63,5.7,5.8,5.89,5.98,6.07],\"y\":[0.0,0.01,0.02,0.03,0.04,0.05,0.06,0.07,0.08,0.09,0.1,0.11,0.12,0.13,0.14,0.15,0.16,0.17,0.18,0.19,0.2,0.21,0.22,0.23,0.24,0.25,0.26,0.27,0.28,0.29,0.3,0.31,0.32,0.33,0.34,0.35,0.36,0.37,0.38,0.39,0.4,0.41,0.42,0.43,0.44,0.45,0.46,0.47,0.48,0.49,0.5,0.51,0.52,0.53,0.54,0.55,0.56,0.57,0.58,0.59,0.6,0.61,0.62,0.63,0.64,0.65,0.66,0.67,0.68,0.69,0.7,0.71,0.72,0.73,0.74,0.75,0.76,0.77,0.78,0.79,0.8,0.81,0.82,0.83,0.84,0.85,0.86,0.87,0.88,0.89,0.9,0.91,0.92,0.93,0.94,0.95,0.96,0.97,0.98,0.99,1.0,1.01,1.02,1.03,1.04,1.05,1.06,1.07,1.08,1.09,1.1,1.11,1.12,1.13,1.14,1.15,1.16,1.17,1.18,1.19,1.2,1.21,1.22,1.23,1.24,1.25,1.26,1.27,1.28,1.29,1.3,1.31,1.32,1.33,1.34,1.35,1.36,1.37,1.38,1.39,1.4,1.41,1.42,1.43,1.44,1.45,1.46,1.47,1.48,1.49,1.5,1.51,1.52,1.53,1.54,1.55,1.56,1.57,1.58,1.59,1.6,1.61,1.62,1.63,1.64,1.65,1.66,1.67,1.68,1.69,1.7]}},\"id\":\"27f0968a-90a3-49d9-85d7-554e443ff59b\",\"type\":\"ColumnDataSource\"},{\"attributes\":{},\"id\":\"650fa0a1-944d-4535-afe5-7f97f6c2a4a2\",\"type\":\"BasicTicker\"},{\"attributes\":{\"callback\":null},\"id\":\"c60a3bfd-f5f8-4b92-a10e-7ffacad51518\",\"type\":\"DataRange1d\"},{\"attributes\":{},\"id\":\"c82521cf-aba7-47f2-8cad-6ab4224f8bb0\",\"type\":\"BasicTickFormatter\"},{\"attributes\":{\"callback\":null,\"plot\":{\"id\":\"a28c8802-1440-4dba-97f9-875e0dd2c6dc\",\"subtype\":\"Figure\",\"type\":\"Plot\"},\"tooltips\":[[\"OD, cells/ml\",\"$y, $x\"]]},\"id\":\"a4793a4c-5801-4f83-a3c9-da1b78fb1ae1\",\"type\":\"HoverTool\"}],\"root_ids\":[\"35a49a26-ace9-43eb-b089-1998f3329585\",\"a28c8802-1440-4dba-97f9-875e0dd2c6dc\"]},\"title\":\"Bokeh Application\",\"version\":\"0.11.1\"}};\n",
       "            var render_items = [{\"docid\":\"8d1fbddc-1dcd-4d8c-b938-f9fd79efd764\",\"elementid\":\"4adeb4f1-f679-48a2-9c80-355ad4272718\",\"modelid\":\"a28c8802-1440-4dba-97f9-875e0dd2c6dc\",\"notebook_comms_target\":\"c07285c8-46e1-44ea-9acd-016d3f6f0a0a\"}];\n",
       "            \n",
       "            Bokeh.embed.embed_items(docs_json, render_items);\n",
       "        });\n",
       "      },\n",
       "      function(Bokeh) {\n",
       "      }\n",
       "    ];\n",
       "  \n",
       "    function run_inline_js() {\n",
       "      for (var i = 0; i < inline_js.length; i++) {\n",
       "        inline_js[i](window.Bokeh);\n",
       "      }\n",
       "    }\n",
       "  \n",
       "    if (window._bokeh_is_loading === 0) {\n",
       "      console.log(\"Bokeh: BokehJS loaded, going straight to plotting\");\n",
       "      run_inline_js();\n",
       "    } else {\n",
       "      load_libs(js_urls, function() {\n",
       "        console.log(\"Bokeh: BokehJS plotting callback run at\", now());\n",
       "        run_inline_js();\n",
       "      });\n",
       "    }\n",
       "  }(this));\n",
       "</script>"
      ]
     },
     "metadata": {},
     "output_type": "display_data"
    }
   ],
   "source": [
    "import bokeh\n",
    "from bokeh.plotting import figure, output_file, show, ColumnDataSource\n",
    "from bokeh.io import output_notebook, show\n",
    "output_notebook() # tells Bokeh to plot inline in the Jupyter notebook\n",
    "from bokeh.models import HoverTool\n",
    "\n",
    "import pandas as pd\n",
    "od660_values_list, cells_per_ml_values_list = unzip(yeast_cell_density_by_OD660_tuples)\n",
    "cells_per_ml_values_list = [(x/1.0e7) for x in cells_per_ml_values_list] # trying to get them in scale, see http://stackoverflow.com/questions/32542957/control-tick-labels-in-python-seaborn-package\n",
    "data_dict = {'od':od660_values_list, 'cells_per_ml':cells_per_ml_values_list} # see http://www.gregreda.com/2013/10/26/intro-to-pandas-data-structures/data_dict = {'od':od660_values_list, 'cells_per_ml':cells_per_ml_values_list} # see http://www.gregreda.com/2013/10/26/intro-to-pandas-data-structures/\n",
    "data_df = pd.DataFrame(data_dict,columns=['od','cells_per_ml']) # see http://www.gregreda.com/2013/10/26/intro-to-pandas-data-structures/\n",
    "\n",
    "hover = HoverTool(\n",
    "        tooltips=[\n",
    "            (\"OD, cells/ml\", \"$y, $x\"),\n",
    "        ]\n",
    "    )\n",
    "\n",
    "# plot = figure(tools=[hover], title=\"Optical Density vs. Cell Density\", x_axis_label=\"cells per ml ($\\\\times 10^7$)\", y_axis_label=\"OD$_{660}$\")\n",
    "# Seems still working on latex support in Bokeh, and so for now:\n",
    "plot = figure(tools=[hover], title=\"Optical Density vs. Cell Density\", x_axis_label=\"cells per ml (x 10^7)\", y_axis_label=\"OD_660\")\n",
    "#plot.xaxis.axis_label_text_font_size = \"40pt\" #just an example of how size can be controlled\n",
    "\n",
    "\n",
    "#plot.scatter(data_df['cells_per_ml'],data_df['od'],fill_color=None, fill_alpha=0.6,line_color=None) # Causes hover issues it seems in crowded areas, if leave both.\n",
    "plot.line(data_df['cells_per_ml'],data_df['od'], line_width = 3)\n",
    "\n",
    "show(plot); # for the semi-colon at end, see https://groups.google.com/forum/#!msg/jupyter/SMBUkOWPetA/nIVztypABQAJ and http://stackoverflow.com/questions/14506583/suppress-output-of-object-when-plotting-in-ipython"
   ]
  },
  {
   "cell_type": "code",
   "execution_count": 23,
   "metadata": {
    "collapsed": false
   },
   "outputs": [
    {
     "data": {
      "text/html": [
       "<iframe id=\"igraph\" scrolling=\"no\" style=\"border:none;\" seamless=\"seamless\" src=\"https://plot.ly/~wayne461/921.embed\" height=\"525\" width=\"100%\"></iframe>"
      ],
      "text/plain": [
       "<plotly.tools.PlotlyDisplay object>"
      ]
     },
     "execution_count": 23,
     "metadata": {},
     "output_type": "execute_result"
    }
   ],
   "source": [
    "## CODE TO LOAD PRE-MADE FANCY, INTERACTIVE PLOT\n",
    "import plotly.tools as tls\n",
    "import warnings\n",
    "warnings.filterwarnings('ignore')  # Turn off warning messages\n",
    "\n",
    "tls.embed('https://plot.ly/~wayne461/921')"
   ]
  },
  {
   "cell_type": "markdown",
   "metadata": {},
   "source": [
    "The Plotly graph has nicer features; however, I only added the plotlgy graph as an aside because Plotly's amazing ecosystem requires a user account with an associated API key in the code (or you can use the non-server mode, [which currently fails to allow LaTex in axis labels](http://stackoverflow.com/questions/34500906/in-plotly-python-api-how-to-enable-latex-rendering-in-offline-mode)), and I wanted to feature active code in this notebook to highlight running it actively using mybinder.org . You can see the code to make this plot [here](https://gist.github.com/fomightez/7f445311a78484c83c3210cbd5540192)."
   ]
  },
  {
   "cell_type": "code",
   "execution_count": 24,
   "metadata": {
    "collapsed": false
   },
   "outputs": [],
   "source": [
    "# Performing the actual calculations\n",
    "cells_per_ml, factor_error_detected = cells_per_ml_calc (absorbance, dilution_factor)\n",
    "# TO DO: ADD HANDLING OF ERROR\n",
    "\n",
    "# adjust if diploid --> \" Cell densities for diploids are half those for\n",
    "# halploids as diploids and some mutants which are abnormally large will\n",
    "# scatter more light than the wildtype haploids at the same cell density.\"\n",
    "if haploid == False:\n",
    "\tcells_per_ml = cells_per_ml/2\n",
    "\n",
    "volume_to_inoculate_for_transformation = transformation_inoculation_volume_calc (cells_per_ml)"
   ]
  },
  {
   "cell_type": "markdown",
   "metadata": {},
   "source": [
    "#  "
   ]
  },
  {
   "cell_type": "markdown",
   "metadata": {},
   "source": [
    "### Formatting of the output:"
   ]
  },
  {
   "cell_type": "markdown",
   "metadata": {},
   "source": [
    "#### IF YOU JUST WANT THE RESULT BASED ON WHAT YOU ENTERED ABOVE, SKIP TO BOTTOM OF THIS NOTEBOOK."
   ]
  },
  {
   "cell_type": "markdown",
   "metadata": {},
   "source": [
    "#### (The first part is just more behind the scenes stuff.)"
   ]
  },
  {
   "cell_type": "code",
   "execution_count": 25,
   "metadata": {
    "collapsed": false
   },
   "outputs": [
    {
     "data": {
      "text/plain": [
       "33579999.99999999"
      ]
     },
     "execution_count": 25,
     "metadata": {},
     "output_type": "execute_result"
    }
   ],
   "source": [
    "cells_per_ml"
   ]
  },
  {
   "cell_type": "markdown",
   "metadata": {},
   "source": [
    "Better formatting based on [here](http://stackoverflow.com/questions/27883510/convert-to-scientific-notation-python-2-7) and [here](http://stackoverflow.com/questions/6913532/display-a-decimal-in-scientific-notation) is below"
   ]
  },
  {
   "cell_type": "code",
   "execution_count": 26,
   "metadata": {
    "collapsed": false
   },
   "outputs": [],
   "source": [
    "cells_per_ml_formatted = \"{:.2E}\".format(cells_per_ml)"
   ]
  },
  {
   "cell_type": "code",
   "execution_count": 27,
   "metadata": {
    "collapsed": false
   },
   "outputs": [
    {
     "data": {
      "text/plain": [
       "'3.36E+07'"
      ]
     },
     "execution_count": 27,
     "metadata": {},
     "output_type": "execute_result"
    }
   ],
   "source": [
    "cells_per_ml_formatted"
   ]
  },
  {
   "cell_type": "code",
   "execution_count": 28,
   "metadata": {
    "collapsed": false
   },
   "outputs": [
    {
     "name": "stdout",
     "output_type": "stream",
     "text": [
      "3.36E+07\n"
     ]
    }
   ],
   "source": [
    "print cells_per_ml_formatted"
   ]
  },
  {
   "cell_type": "markdown",
   "metadata": {},
   "source": [
    "(I don't know why print command and just calling variable give different results, i.e., one has the single-quotes and the one involving `print` doesn't. I guess it is because one is a string and the other is printed string?)"
   ]
  },
  {
   "cell_type": "code",
   "execution_count": 29,
   "metadata": {
    "collapsed": false
   },
   "outputs": [
    {
     "name": "stdout",
     "output_type": "stream",
     "text": [
      "3.36E+07\n"
     ]
    }
   ],
   "source": [
    "print \"{:.2E}\".format(cells_per_ml)"
   ]
  },
  {
   "cell_type": "code",
   "execution_count": 30,
   "metadata": {
    "collapsed": false
   },
   "outputs": [],
   "source": [
    "# adjust if diploid\n",
    "if haploid == False:\n",
    "\tprint \"You indicated your strain is a diploid.\""
   ]
  },
  {
   "cell_type": "code",
   "execution_count": 31,
   "metadata": {
    "collapsed": false
   },
   "outputs": [
    {
     "name": "stdout",
     "output_type": "stream",
     "text": [
      "The sample density is 3.36E+07 yeast cells per ml.\n"
     ]
    }
   ],
   "source": [
    "print \"The sample density is \"+ \"{:.2E}\".format(cells_per_ml) +\" yeast cells per ml.\""
   ]
  },
  {
   "cell_type": "code",
   "execution_count": 32,
   "metadata": {
    "collapsed": false
   },
   "outputs": [
    {
     "name": "stdout",
     "output_type": "stream",
     "text": [
      "If using this sample for inoculating a 50 mL culture for growing to density 2.0E+07 cells per mL for use in a transformation, use 7.4 mL of the culture with 42.6 mL YPD media.\n"
     ]
    }
   ],
   "source": [
    "# Formatting output of transformation advice\n",
    "# Formatting correct decimal place for Python 2.7 based on Daren Thomas's answer\n",
    "# http://stackoverflow.com/questions/6149006/display-a-float-with-two-decimal-places-in-python\n",
    "print \"If using this sample for inoculating a 50 mL culture for growing to density 2.0E+07 cells per mL for use in a transformation, use \" + \"{:.1f}\".format(\n",
    "\tvolume_to_inoculate_for_transformation) + \" mL of the culture with \" + \"{:.1f}\".format(\n",
    "\t50.0 - volume_to_inoculate_for_transformation ) + \" mL YPD media.\""
   ]
  }
 ],
 "metadata": {
  "kernelspec": {
   "display_name": "Python 2",
   "language": "python",
   "name": "python2"
  },
  "language_info": {
   "codemirror_mode": {
    "name": "ipython",
    "version": 2
   },
   "file_extension": ".py",
   "mimetype": "text/x-python",
   "name": "python",
   "nbconvert_exporter": "python",
   "pygments_lexer": "ipython2",
   "version": "2.7.11"
  },
  "widgets": {
   "state": {},
   "version": "1.1.2"
  }
 },
 "nbformat": 4,
 "nbformat_minor": 0
}
