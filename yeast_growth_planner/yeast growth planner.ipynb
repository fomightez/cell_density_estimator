{
 "cells": [
  {
   "cell_type": "markdown",
   "metadata": {},
   "source": [
    "# Yeast Growth Planner"
   ]
  },
  {
   "cell_type": "markdown",
   "metadata": {},
   "source": [
    " "
   ]
  },
  {
   "cell_type": "markdown",
   "metadata": {},
   "source": [
    "This tool aids in determining volumes to inoculate from an currently growing or saturated culture to achieve target cell density in a mid-log culture after a certain amount of time. It is only a rough guideline.  \n",
    "\n",
    "This notebook-based tool is based on the approach described in the Methods in Yeast Gentics Appendix entitled \"Logarithmic Growth\".  \n",
    " \n",
    "For help estimating the number of cells per ml (cell density or concentration) see [here](https://github.com/fomightez/methods_in_yeast_genetics/tree/master/cell_density_estimator) where you can launch [an active Jupyter notebook to aid in the calculations]() <--- NEED TO UPDATE."
   ]
  },
  {
   "cell_type": "markdown",
   "metadata": {},
   "source": [
    "### Background\n",
    "\n",
    "Logarithmic growth of a population of cells can be described mathematically as\n",
    "$$N = N_oe^{ln2(t/t_2)}$$\n",
    "(from page 177 of Methods in Yeast Genetics, 2005 Edition) \n",
    "\n",
    "`t = time in hours`  \n",
    "`N = number of cells per ml after time t`  \n",
    "`N`$_o$ `= number of cells per ml at time zero`  \n",
    "`t`$_2$ `= doubling time in hours`  \n",
    "\n",
    "<img src=\"growth_curve_with_note.png\" width=\"417\" height=\"496\" />\n",
    "\n",
    "Generally, yeast grown in rich media (YPD) to stationary phase are at about 2 $\\times$ 10$^8$ cells/ml. For synthetic complete-type media, it is generally at about 10-fold less in terms of cells/ml for a saturated culture.\n",
    "\n",
    "Approximate doubling times of yeast at various temperatures:\n",
    "\n",
    "| Temperature  | Doubling Time |\n",
    "| ------------- | ------------- |\n",
    "| 23$\\unicode{x2103}$  | 2.0 hours  |\n",
    "| 30$\\unicode{x2103}$  | 1.5 hours  |\n",
    "| 36$\\unicode{x2103}$  | 1.0 hours  |\n",
    "\n",
    "#### Example using the equation to determine inoculation \n",
    "\n",
    "It is near the end of the typical workday and you'd like to begin your experiment at 9 in the morning tomorrow. At that time, you'd like the cells to be at 1 $\\times$ 10$^7$ cells per ml and growing at 30$\\unicode{x2103}$. You have a culture you had grown the might before that is at saturation.\n",
    "\n",
    "To begin to determine the dilution you need, you can first define the varaiables.\n",
    "\n",
    "`N = 1` $\\times$ `10`$^7$  \n",
    "`t = 16`  \n",
    "`t`$_2$ `= 1.5`\n",
    "\n",
    "Now plug in to the equation to determine the starting density needed and solve for `N`$_o$.\n",
    "\n",
    "$$1 \\times 10^7 = N_oe^{ln2(16/1.5)}$$\n",
    "$$1 \\times 10^7 = N_oe^{(0.69)(10.66)}$$\n",
    "$$N_o = 1 \\times 10^7 /1625 $$\n",
    "$$N_o = 6152 = 6.4 \\times10^3$$\n",
    "\n",
    "6.2 $\\times$ 10$^3$ cells per ml is the approximate starting density needed. Divide the current approximate density by the starting density to get the dilution factor needed.\n",
    "\n",
    "$$2 \\times 10^8/6152 = 3.25 \\times 10^4$$\n",
    "\n",
    "So now using your starting material, you want to make a $3.25 \\times 10^4$-fold dilution.\n",
    "\n",
    "For example, for a 50-ml culture (50,000 microliters) you need to inoculate with 1.5 microliters of the overnight culture because $50,000/32,500 = 1.5$."
   ]
  },
  {
   "cell_type": "markdown",
   "metadata": {},
   "source": [
    "### Let Python do the math\n",
    "\n",
    "Now that the basis for the calculation is clear, you can set up the variables in this notebook and let Python calculate the numbers for your case.\n",
    "\n",
    "### Investigator-provided values:"
   ]
  },
  {
   "cell_type": "markdown",
   "metadata": {},
   "source": [
    "Below provide the time in hours between the time you'll make the inoculation and the time you'll want your freshly grown cells. "
   ]
  },
  {
   "cell_type": "code",
   "execution_count": null,
   "metadata": {},
   "outputs": [],
   "source": [
    "time = 16"
   ]
  },
  {
   "cell_type": "markdown",
   "metadata": {},
   "source": [
    "Below provide the number of cells per ml you need following the incubation for the time amount you provided above.  \n",
    "For help estimating the number of cells per ml (cell density or concentration) see [here](https://github.com/fomightez/methods_in_yeast_genetics/tree/master/cell_density_estimator) where you can launch [an active Jupyter notebook to aid in the calculations](http://mybinder.org/repo/fomightez/methods_in_yeast_genetics/notebooks/cell_density_estimator/cell_density_estimator_for_multiple_samples.ipynb)."
   ]
  },
  {
   "cell_type": "code",
   "execution_count": null,
   "metadata": {},
   "outputs": [],
   "source": [
    "number_of_cells_per_ml_after_incubation = 1.0E7     # `E` here stands for `10` to the power of the number after the `E`"
   ]
  },
  {
   "cell_type": "markdown",
   "metadata": {},
   "source": [
    "Below enter the approximate doubling time of your strain at the temperature at wish you plan to grow. You can use the numbers in the table above as general guidelines. If you know particular values for your strain, enter that as it will serve your planning better."
   ]
  },
  {
   "cell_type": "code",
   "execution_count": null,
   "metadata": {},
   "outputs": [],
   "source": [
    "doubling_time = 1.5"
   ]
  },
  {
   "cell_type": "markdown",
   "metadata": {},
   "source": [
    "Below enter the density of the culture you have as a starting point for inoculation. Guides for saturated cultures are provided above, but here again the calculation, and ulitmately your planning, will benefit by more accurate information. Use the [cell density estimator provided here](https://github.com/fomightez/methods_in_yeast_genetics/tree/master/cell_density_estimator) to determine your source culture's density in cells per ml."
   ]
  },
  {
   "cell_type": "code",
   "execution_count": null,
   "metadata": {},
   "outputs": [],
   "source": [
    "starting_density = 2.0E8     # `E` here stands for `10` to the power of the number after the `E`"
   ]
  },
  {
   "cell_type": "markdown",
   "metadata": {},
   "source": [
    "Below enter the volume in milliliters of the culture you need to grow."
   ]
  },
  {
   "cell_type": "code",
   "execution_count": null,
   "metadata": {},
   "outputs": [],
   "source": [
    "culture_volume_in_mls = 50"
   ]
  },
  {
   "cell_type": "markdown",
   "metadata": {},
   "source": [
    "#### That is all that is needed. You can now run this notebook and see the result below the next section. You can also edit it further to view the individual steps prior to the results."
   ]
  },
  {
   "cell_type": "markdown",
   "metadata": {},
   "source": [
    "#  "
   ]
  },
  {
   "cell_type": "markdown",
   "metadata": {},
   "source": [
    "### Code that calculates inoculation so your cells are ready later and formats the text:"
   ]
  },
  {
   "cell_type": "markdown",
   "metadata": {},
   "source": [
    "#### IF YOU JUST WANT THE RESULT BASED ON WHAT YOU ENTERED ABOVE, SKIP TO BELOW THIS SECTION OF THE NOTEBOOK."
   ]
  },
  {
   "cell_type": "markdown",
   "metadata": {},
   "source": [
    "#### (This is just the behind the scenes stuff.)"
   ]
  },
  {
   "cell_type": "code",
   "execution_count": null,
   "metadata": {
    "collapsed": false,
    "jupyter": {
     "outputs_hidden": false
    }
   },
   "outputs": [],
   "source": [
    "## PREPARATION AND HELPER FUNCTIONS FOR THE CODE ##\n",
    "\n",
    "def calculate_inoculation_volume ():\n",
    "    '''\n",
    "    The function uses the culture volume needed and a dilution factor\n",
    "    to calculate the volume needed for inoculation at the amount of\n",
    "    hours ahead of time as designated by the `time` variable.\n",
    "    \n",
    "    To make it easier, if the value of the inoculum is less than 1 mL,\n",
    "    it is converted to microliters.\n",
    "    '''\n",
    "    inoculation_volume_in_mls = culture_volume_in_mls/dilution_needed\n",
    "    result_text_string = \"For a {!s}\".format(culture_volume_in_mls) + \"-ml culture, you need to inoculate with \"\n",
    "    \n",
    "    # adjust terms if value less than a milliliter\n",
    "    if inoculation_volume_in_mls < 1:\n",
    "        inoculation_volume_in_microliters = inoculation_volume_in_mls * 1000\n",
    "        result_text_string += \"{:.2f}\".format(inoculation_volume_in_microliters) + \" microliters\"\n",
    "    else:\n",
    "        result_text_string += \"{:.2f}\".format(inoculation_volume_in_mls) + \" mL\"\n",
    "    \n",
    "    #return the result with the correct terms formatted\n",
    "    return result_text_string + \" of the starting culture to get a {:.2E}-fold dilution.\".format(dilution_needed)\n",
    "\n",
    "import math\n",
    "import numpy as np"
   ]
  },
  {
   "cell_type": "code",
   "execution_count": null,
   "metadata": {
    "collapsed": false,
    "jupyter": {
     "outputs_hidden": false
    }
   },
   "outputs": [],
   "source": [
    "# CALCULATIONS AND FORMATTING\n",
    "cells_per_ml_starting_density_needed = number_of_cells_per_ml_after_incubation/(math.exp(np.log(2) * (time/doubling_time))) # see http://stackoverflow.com/questions/10593100/python-numpy-ln\n",
    "# the above line can also be written: cells_per_ml_starting_density_needed = number_of_cells_per_ml_after_incubation/(math.e**(np.log(2) * (time/doubling_time))) , see https://docs.python.org/2/library/math.html\n",
    "starting_density_info = \"Given the provided values, \" + \"{:.0f}\".format(cells_per_ml_starting_density_needed) + \" or {:.2E}\".format(cells_per_ml_starting_density_needed)  + \" cells per ml is the approximate starting density needed.\"\n",
    "dilution_needed = starting_density/cells_per_ml_starting_density_needed\n",
    "dilution_info = \"The fold dilution of the starting culture needed is {:.2E}.\".format(dilution_needed)"
   ]
  },
  {
   "cell_type": "markdown",
   "metadata": {},
   "source": [
    "#  "
   ]
  },
  {
   "cell_type": "markdown",
   "metadata": {},
   "source": [
    "### Result of calculations to determine how much to inoculate so your cells are ready later :"
   ]
  },
  {
   "cell_type": "code",
   "execution_count": null,
   "metadata": {
    "collapsed": false,
    "jupyter": {
     "outputs_hidden": false
    }
   },
   "outputs": [],
   "source": [
    "print (starting_density_info)\n",
    "print (dilution_info)\n",
    "print (calculate_inoculation_volume ())"
   ]
  },
  {
   "cell_type": "markdown",
   "metadata": {},
   "source": [
    "---"
   ]
  },
  {
   "cell_type": "markdown",
   "metadata": {},
   "source": [
    "### Related Calculations\n",
    "\n",
    "#### Estimating the final number of cells per ml after a provided amount of time for a given amount of cells at a certain density and the doubling time\n",
    "\n",
    "As described above, the population of cells can be described mathematically as\n",
    "$$N = N_oe^{ln2(t/t_2)}$$\n",
    "\n",
    "`t = time in hours`  \n",
    "`N = number of cells per ml after time t`  \n",
    "`N`$_o$ `= number of cells per ml at time zero`  \n",
    "`t`$_2$ `= doubling time in hours`  \n",
    "\n",
    "\n",
    "** To calculate that with Python edit the values in the cell below to reflect your situation and  press `SHIFT+ENTER` on your keyboard or press the play button on the toolbar above:**  \n",
    "(For help estimating the number of cells per ml (cell density or concentration) see [here](https://github.com/fomightez/methods_in_yeast_genetics/tree/master/cell_density_estimator) where you can launch [an active Jupyter notebook to aid in the calculations](http://mybinder.org/repo/fomightez/methods_in_yeast_genetics/notebooks/cell_density_estimator/cell_density_estimator_for_multiple_samples.ipynb))"
   ]
  },
  {
   "cell_type": "code",
   "execution_count": null,
   "metadata": {},
   "outputs": [],
   "source": [
    "## Define the variables\n",
    "number_of_hours_growth = 6.0\n",
    "initial_cells_per_ml = 1.08E7\n",
    "doubling_time = 4.0 # in hours\n",
    "\n",
    "## Two lines of code follow to make sure all necessary items imported into notebook\n",
    "import math\n",
    "import numpy as np\n",
    "\n",
    "## Calculate\n",
    "final_cells_per_ml = initial_cells_per_ml * (math.exp(np.log(2) * (number_of_hours_growth/doubling_time)))\n",
    "\n",
    "## Display result\n",
    "print ('The final number of cells per ml after {!s}'.format(number_of_hours_growth) + ' hours of growth is expected to be {:.2E}.'.format(final_cells_per_ml))"
   ]
  },
  {
   "cell_type": "markdown",
   "metadata": {},
   "source": [
    " "
   ]
  },
  {
   "cell_type": "markdown",
   "metadata": {},
   "source": [
    "#### Determining doubling time of a yeast strain given two time points where you know the amount of cells per ml\n",
    "\n",
    "As described above, the population of cells can be described mathematically as\n",
    "$$N = N_oe^{ln2(t/t_2)}$$\n",
    "\n",
    "`t = growth time in hours`  \n",
    "`N = number of cells per ml after time t`  \n",
    "`N`$_o$ `= number of cells per ml at time zero`  \n",
    "`t`$_2$ `= doubling time in hours`  \n",
    "\n",
    "Rearranging the equation, that means \n",
    "\n",
    "$$t_2 = \\frac{t(ln2)}{ln(N) - ln(N_o)}$$\n",
    "\n",
    "**To calculate that with Python edit the values in the cell below to reflect your situation and  press `SHIFT+ENTER` on your keyboard or press the play button on the toolbar above:**  \n",
    "(For help estimating the number of cells per ml (cell density or concentration) see [here](https://github.com/fomightez/methods_in_yeast_genetics/tree/master/cell_density_estimator) where you can launch [an active Jupyter notebook to aid in the calculations](http://mybinder.org/repo/fomightez/methods_in_yeast_genetics/notebooks/cell_density_estimator/cell_density_estimator_for_multiple_samples.ipynb))"
   ]
  },
  {
   "cell_type": "code",
   "execution_count": null,
   "metadata": {
    "collapsed": false,
    "jupyter": {
     "outputs_hidden": false
    }
   },
   "outputs": [],
   "source": [
    "## Define the variables\n",
    "hours_between_growth_samplings = 6.833\n",
    "initial_cells_per_ml = 1.08E7\n",
    "final_cells_per_ml = 3.5E7\n",
    "\n",
    "## One line of code follow to make sure all necessary items imported into notebook\n",
    "import numpy as np\n",
    "\n",
    "## Calculate\n",
    "doubling_time = (hours_between_growth_samplings * np.log(2))/ (np.log(final_cells_per_ml) - np.log(initial_cells_per_ml))\n",
    "\n",
    "## Display result\n",
    "print ('The doubling time is estimated at {:.3f} hours.'.format(doubling_time))"
   ]
  },
  {
   "cell_type": "markdown",
   "metadata": {},
   "source": [
    " "
   ]
  },
  {
   "cell_type": "markdown",
   "metadata": {},
   "source": [
    "#### Determining additional time to grow a yeast strain given the current amount of cells per ml\n",
    "\n",
    "As described above, the population of cells can be described mathematically as\n",
    "$$N = N_oe^{ln2(t/t_2)}$$\n",
    "\n",
    "`t = growth time in hours`  \n",
    "`N = number of cells per ml after time t`  \n",
    "`N`$_o$ `= number of cells per ml at time zero`  \n",
    "`t`$_2$ `= doubling time in hours`  \n",
    "\n",
    "Rearranging the equation, that means \n",
    "\n",
    "$$t = \\frac{t_2(ln(N) - ln(N_o))}{ln2}$$\n",
    "\n",
    "**To calculate that with Python edit the values in the cell below to reflect your situation and  press `SHIFT+ENTER` on your keyboard or press the play button on the toolbar above:**  \n",
    "(For help estimating the number of cells per ml (cell density or concentration) see [here](https://github.com/fomightez/methods_in_yeast_genetics/tree/master/cell_density_estimator) where you can launch [an active Jupyter notebook to aid in the calculations](http://mybinder.org/repo/fomightez/methods_in_yeast_genetics/notebooks/cell_density_estimator/cell_density_estimator_for_multiple_samples.ipynb))"
   ]
  },
  {
   "cell_type": "code",
   "execution_count": null,
   "metadata": {
    "collapsed": false,
    "jupyter": {
     "outputs_hidden": false
    }
   },
   "outputs": [],
   "source": [
    "## Define the variables\n",
    "current_cells_per_ml = 2.15E7\n",
    "final_cells_per_ml_needed = 3.0E7\n",
    "doubling_time = 4.0 # in hours\n",
    "\n",
    "## One line of code follow to make sure all necessary items imported into notebook\n",
    "import numpy as np\n",
    "\n",
    "## Calculate\n",
    "additional_growth_time_needed = (doubling_time * (np.log(final_cells_per_ml_needed) - np.log(current_cells_per_ml)))/np.log(2)\n",
    "\n",
    "## Display result\n",
    "print ('The additional growth time needed is estimated at {:.3f} hours.'.format(additional_growth_time_needed))"
   ]
  },
  {
   "cell_type": "markdown",
   "metadata": {},
   "source": [
    "---"
   ]
  }
 ],
 "metadata": {
  "kernelspec": {
   "display_name": "Python 3",
   "language": "python",
   "name": "python3"
  },
  "language_info": {
   "codemirror_mode": {
    "name": "ipython",
    "version": 3
   },
   "file_extension": ".py",
   "mimetype": "text/x-python",
   "name": "python",
   "nbconvert_exporter": "python",
   "pygments_lexer": "ipython3",
   "version": "3.7.6"
  },
  "widgets": {
   "state": {},
   "version": "1.1.2"
  }
 },
 "nbformat": 4,
 "nbformat_minor": 4
}
